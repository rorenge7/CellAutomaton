{
  "nbformat": 4,
  "nbformat_minor": 0,
  "metadata": {
    "anaconda-cloud": {},
    "kernelspec": {
      "name": "python3",
      "display_name": "Python 3"
    },
    "nbpresent": {
      "slides": {
        "008a788b-b456-4a0c-8288-6f60967c483e": {
          "id": "008a788b-b456-4a0c-8288-6f60967c483e",
          "prev": "17036b1e-8781-4a7e-a909-a179f499bbc9",
          "regions": {
            "072dbee3-3b47-4389-a934-e0168ebd835e": {
              "attrs": {
                "height": 0.8,
                "width": 0.8,
                "x": 0.1,
                "y": 0.1
              },
              "content": {
                "cell": "378cb846-5485-41d5-9983-fec98a22072a",
                "part": "whole"
              },
              "id": "072dbee3-3b47-4389-a934-e0168ebd835e"
            }
          }
        },
        "01ab9067-898c-46a1-91d9-18ca4fe5a937": {
          "id": "01ab9067-898c-46a1-91d9-18ca4fe5a937",
          "prev": "008a788b-b456-4a0c-8288-6f60967c483e",
          "regions": {
            "42da7aa5-8de9-4631-8abe-4ab35c510140": {
              "attrs": {
                "height": 0.8,
                "width": 0.8,
                "x": 0.1,
                "y": 0.1
              },
              "content": {
                "cell": "7f0f7ef4-e90b-41de-8f73-6165e1b3c1cb",
                "part": "whole"
              },
              "id": "42da7aa5-8de9-4631-8abe-4ab35c510140"
            }
          }
        },
        "02225e5f-f35d-40ef-8f23-5431b19121ab": {
          "id": "02225e5f-f35d-40ef-8f23-5431b19121ab",
          "prev": "430a8f03-8947-469c-a376-2f271448284d",
          "regions": {
            "5bf42e3a-831e-4238-ae19-d2212b26edc0": {
              "attrs": {
                "height": 0.8,
                "width": 0.8,
                "x": 0.1,
                "y": 0.1
              },
              "content": {
                "cell": "c68c4e4e-072e-4620-a325-3ebb19ebe1ce",
                "part": "whole"
              },
              "id": "5bf42e3a-831e-4238-ae19-d2212b26edc0"
            }
          }
        },
        "094d2d0d-c7e5-40bc-bed7-bd80198e8e18": {
          "id": "094d2d0d-c7e5-40bc-bed7-bd80198e8e18",
          "prev": "de950ae7-a7c1-424c-afe2-42f481db181e",
          "regions": {
            "95429590-c6e8-4e00-a061-62d2a454c52f": {
              "attrs": {
                "height": 0.8,
                "width": 0.8,
                "x": 0.1,
                "y": 0.1
              },
              "content": {
                "cell": "aa08360f-e7dd-4647-bbfb-cadd5f19af31",
                "part": "whole"
              },
              "id": "95429590-c6e8-4e00-a061-62d2a454c52f"
            }
          }
        },
        "0aa8229e-9b5c-4f49-bd1e-34de4cd2e82f": {
          "id": "0aa8229e-9b5c-4f49-bd1e-34de4cd2e82f",
          "prev": "11f1d1c4-4848-4b7d-a62d-5427e055bbe3",
          "regions": {
            "9504ff07-d651-4294-ba2e-a89ec52ca708": {
              "attrs": {
                "height": 0.8,
                "width": 0.8,
                "x": 0.1,
                "y": 0.1
              },
              "content": {
                "cell": "e73995f2-c960-4881-b3d3-82c24b06c64c",
                "part": "whole"
              },
              "id": "9504ff07-d651-4294-ba2e-a89ec52ca708"
            }
          }
        },
        "0c50d9ca-fef0-4e5c-8a4e-f18d1c2dbb9e": {
          "id": "0c50d9ca-fef0-4e5c-8a4e-f18d1c2dbb9e",
          "prev": "b248eaf4-2e85-4c32-8f88-7b2ef510ee7c",
          "regions": {
            "8b734704-6740-44f7-8c87-17350c882ed3": {
              "attrs": {
                "height": 0.8,
                "width": 0.8,
                "x": 0.1,
                "y": 0.1
              },
              "content": {
                "cell": "cc42c471-e943-450e-a441-3dc962f1c40d",
                "part": "whole"
              },
              "id": "8b734704-6740-44f7-8c87-17350c882ed3"
            }
          }
        },
        "107cd2c7-0a77-4fd7-922b-56df6615dcca": {
          "id": "107cd2c7-0a77-4fd7-922b-56df6615dcca",
          "prev": "2e7deda1-5486-4b26-8e0a-c91e4c88dbe8",
          "regions": {
            "2ee1a19b-7a00-46b1-b393-485ddb7c2b9b": {
              "attrs": {
                "height": 0.8,
                "width": 0.8,
                "x": 0.1,
                "y": 0.1
              },
              "content": {
                "cell": "d27b23aa-809c-4965-8399-5e67901e2ae4",
                "part": "whole"
              },
              "id": "2ee1a19b-7a00-46b1-b393-485ddb7c2b9b"
            }
          }
        },
        "11f1d1c4-4848-4b7d-a62d-5427e055bbe3": {
          "id": "11f1d1c4-4848-4b7d-a62d-5427e055bbe3",
          "prev": "9461c0f4-d87e-441d-915d-95c69b105ecb",
          "regions": {
            "185d0c6f-1e15-43e1-81f5-1234d5ac3ade": {
              "attrs": {
                "height": 0.8,
                "width": 0.8,
                "x": 0.1,
                "y": 0.1
              },
              "content": {
                "cell": "18703937-12da-40b5-960d-e7a50467e7d0",
                "part": "whole"
              },
              "id": "185d0c6f-1e15-43e1-81f5-1234d5ac3ade"
            }
          }
        },
        "17036b1e-8781-4a7e-a909-a179f499bbc9": {
          "id": "17036b1e-8781-4a7e-a909-a179f499bbc9",
          "prev": "5494c0f6-12d4-4627-9481-26c7858f8f09",
          "regions": {
            "4757fb07-c8f0-49b5-bb28-9a5bb61995ff": {
              "attrs": {
                "height": 0.8,
                "width": 0.8,
                "x": 0.1,
                "y": 0.1
              },
              "content": {
                "cell": "6452b3ab-84b7-4f3c-b74f-ae118e4ed9f2",
                "part": "whole"
              },
              "id": "4757fb07-c8f0-49b5-bb28-9a5bb61995ff"
            }
          }
        },
        "1d02d174-1ae1-4900-bb8e-92083b3f723b": {
          "id": "1d02d174-1ae1-4900-bb8e-92083b3f723b",
          "prev": "466c6928-dc5e-4aeb-abad-2dbb2c797793",
          "regions": {
            "2e5e7aee-fec1-4322-82df-30c9bda076ce": {
              "attrs": {
                "height": 0.8,
                "width": 0.8,
                "x": 0.1,
                "y": 0.1
              },
              "content": {
                "cell": "e89daf11-82d5-4ae2-905b-b73662884e4e",
                "part": "whole"
              },
              "id": "2e5e7aee-fec1-4322-82df-30c9bda076ce"
            }
          }
        },
        "26984d6c-6cdd-4fb6-a80c-b16f643b3802": {
          "id": "26984d6c-6cdd-4fb6-a80c-b16f643b3802",
          "prev": "dfaeb098-c3a9-4980-ae35-70f9b6296a7d",
          "regions": {
            "e3a7924f-b4ad-4919-b97c-a9f0da0027ec": {
              "attrs": {
                "height": 0.8,
                "width": 0.8,
                "x": 0.1,
                "y": 0.1
              },
              "content": {
                "cell": "5683d4a6-3bdb-44ea-8a8e-6203da028f73",
                "part": "whole"
              },
              "id": "e3a7924f-b4ad-4919-b97c-a9f0da0027ec"
            }
          }
        },
        "2e7deda1-5486-4b26-8e0a-c91e4c88dbe8": {
          "id": "2e7deda1-5486-4b26-8e0a-c91e4c88dbe8",
          "prev": "67a167dd-f578-4c00-9a52-77864d640afa",
          "regions": {
            "eb91815b-1df2-4bfb-b2d9-b47359f388f3": {
              "attrs": {
                "height": 0.8,
                "width": 0.8,
                "x": 0.1,
                "y": 0.1
              },
              "content": {
                "cell": "2b936ae8-a540-4353-8b1d-42f7a3bdc763",
                "part": "whole"
              },
              "id": "eb91815b-1df2-4bfb-b2d9-b47359f388f3"
            }
          }
        },
        "35c31f44-06e2-4d75-a9b7-0c168d125d04": {
          "id": "35c31f44-06e2-4d75-a9b7-0c168d125d04",
          "prev": "8b46588c-ad23-4509-b67d-62702ed7afd1",
          "regions": {
            "82c3daba-b8de-42a1-b157-7274603802ae": {
              "attrs": {
                "height": 0.8,
                "width": 0.8,
                "x": 0.1,
                "y": 0.1
              },
              "content": {
                "cell": "35e93b3d-957c-4833-a2a5-b980ecffa5b1",
                "part": "whole"
              },
              "id": "82c3daba-b8de-42a1-b157-7274603802ae"
            }
          }
        },
        "3671ddb9-95b3-4245-b062-03cc90ea386d": {
          "id": "3671ddb9-95b3-4245-b062-03cc90ea386d",
          "prev": "3c3ef584-2982-4a35-afcf-4772c65dc2ac",
          "regions": {
            "faddc9ae-ef33-4d8e-a04e-e9f73ea0310e": {
              "attrs": {
                "height": 0.8,
                "width": 0.8,
                "x": 0.1,
                "y": 0.1
              },
              "content": {
                "cell": "bea98316-c64e-4810-b176-ed4947524f8c",
                "part": "whole"
              },
              "id": "faddc9ae-ef33-4d8e-a04e-e9f73ea0310e"
            }
          }
        },
        "37edb96d-7d51-438f-bd46-fc06e161e205": {
          "id": "37edb96d-7d51-438f-bd46-fc06e161e205",
          "prev": "58980228-1ba8-4ba6-89d3-dd7694662786",
          "regions": {
            "d1ee61d0-5e72-4925-b975-1cc103761137": {
              "attrs": {
                "height": 0.8,
                "width": 0.8,
                "x": 0.1,
                "y": 0.1
              },
              "content": {
                "cell": "b0fc1861-b979-45c5-abd0-3b05200de3b6",
                "part": "whole"
              },
              "id": "d1ee61d0-5e72-4925-b975-1cc103761137"
            }
          }
        },
        "3a9ce2a4-6dd4-463e-8d2d-4aa731447f39": {
          "id": "3a9ce2a4-6dd4-463e-8d2d-4aa731447f39",
          "prev": "0aa8229e-9b5c-4f49-bd1e-34de4cd2e82f",
          "regions": {
            "80f94dd5-569c-4105-9db9-746bc3a0d979": {
              "attrs": {
                "height": 0.8,
                "width": 0.8,
                "x": 0.1,
                "y": 0.1
              },
              "content": {
                "cell": "d3d6e29a-a939-4ab4-95e0-5645d4eb97a4",
                "part": "whole"
              },
              "id": "80f94dd5-569c-4105-9db9-746bc3a0d979"
            }
          }
        },
        "3c3ef584-2982-4a35-afcf-4772c65dc2ac": {
          "id": "3c3ef584-2982-4a35-afcf-4772c65dc2ac",
          "prev": "523566b9-8158-4001-91b2-f7d1d61ec04b",
          "regions": {
            "8182730f-8099-4a3f-815d-c92171a084a7": {
              "attrs": {
                "height": 0.8,
                "width": 0.8,
                "x": 0.1,
                "y": 0.1
              },
              "content": {
                "cell": "2ff35469-eeef-46b0-8b36-f2b6d4580bd4",
                "part": "whole"
              },
              "id": "8182730f-8099-4a3f-815d-c92171a084a7"
            }
          }
        },
        "3e8e0818-4535-4e50-b8da-423cfa6bda87": {
          "id": "3e8e0818-4535-4e50-b8da-423cfa6bda87",
          "prev": "bff971e4-b2b6-497d-8f6b-6401514ee2ca",
          "regions": {
            "859f95ab-5314-4f50-9fc8-7f8a76741c82": {
              "attrs": {
                "height": 0.8,
                "width": 0.8,
                "x": 0.1,
                "y": 0.1
              },
              "content": {
                "cell": "0893c4bd-30b9-4137-bc19-c40d5def546a",
                "part": "whole"
              },
              "id": "859f95ab-5314-4f50-9fc8-7f8a76741c82"
            }
          }
        },
        "430a8f03-8947-469c-a376-2f271448284d": {
          "id": "430a8f03-8947-469c-a376-2f271448284d",
          "prev": "ae384cc7-844b-4a3a-816d-4275e60a5020",
          "regions": {
            "cc346300-13a7-4c57-9eea-13d379d8f845": {
              "attrs": {
                "height": 0.8,
                "width": 0.8,
                "x": 0.1,
                "y": 0.1
              },
              "content": {
                "cell": "3b3885c1-a497-4d41-bb48-76a6d8b43a62",
                "part": "whole"
              },
              "id": "cc346300-13a7-4c57-9eea-13d379d8f845"
            }
          }
        },
        "43517c80-f987-4261-bad2-6844f9f11a43": {
          "id": "43517c80-f987-4261-bad2-6844f9f11a43",
          "prev": "02225e5f-f35d-40ef-8f23-5431b19121ab",
          "regions": {
            "386e1c27-adc8-4888-b278-a730e1a06a1b": {
              "attrs": {
                "height": 0.8,
                "width": 0.8,
                "x": 0.1,
                "y": 0.1
              },
              "content": {
                "cell": "c34d5c93-c65c-4e47-8c92-b38faead2dc2",
                "part": "whole"
              },
              "id": "386e1c27-adc8-4888-b278-a730e1a06a1b"
            }
          }
        },
        "466c6928-dc5e-4aeb-abad-2dbb2c797793": {
          "id": "466c6928-dc5e-4aeb-abad-2dbb2c797793",
          "prev": "01ab9067-898c-46a1-91d9-18ca4fe5a937",
          "regions": {
            "dadc7530-a88a-474c-93b1-a6b13fdeb671": {
              "attrs": {
                "height": 0.8,
                "width": 0.8,
                "x": 0.1,
                "y": 0.1
              },
              "content": {
                "cell": "07dd10e2-514b-4435-afa4-cab572e54611",
                "part": "whole"
              },
              "id": "dadc7530-a88a-474c-93b1-a6b13fdeb671"
            }
          }
        },
        "523566b9-8158-4001-91b2-f7d1d61ec04b": {
          "id": "523566b9-8158-4001-91b2-f7d1d61ec04b",
          "prev": "db6c2c84-14f3-4a3f-972c-ea1e9b45b091",
          "regions": {
            "fa40db73-7f38-419f-b6d1-2d0c9854ad3d": {
              "attrs": {
                "height": 0.8,
                "width": 0.8,
                "x": 0.1,
                "y": 0.1
              },
              "content": {
                "cell": "9c7b5502-7d21-45ef-9801-c8ab89c0cb1b",
                "part": "whole"
              },
              "id": "fa40db73-7f38-419f-b6d1-2d0c9854ad3d"
            }
          }
        },
        "5342b691-167b-4e0f-a28f-aee2f74648b3": {
          "id": "5342b691-167b-4e0f-a28f-aee2f74648b3",
          "prev": "9750cf96-7612-4159-bac1-bf26fe2f60c8",
          "regions": {
            "8bf6c96e-7113-4293-9db9-3999fd5dc82b": {
              "attrs": {
                "height": 0.8,
                "width": 0.8,
                "x": 0.1,
                "y": 0.1
              },
              "content": {
                "cell": "21eb3ee8-f72c-4842-a2b2-98bc6b4b06b2",
                "part": "whole"
              },
              "id": "8bf6c96e-7113-4293-9db9-3999fd5dc82b"
            }
          }
        },
        "5494c0f6-12d4-4627-9481-26c7858f8f09": {
          "id": "5494c0f6-12d4-4627-9481-26c7858f8f09",
          "prev": "3671ddb9-95b3-4245-b062-03cc90ea386d",
          "regions": {
            "8f4923d7-89d2-4193-a542-786412d24121": {
              "attrs": {
                "height": 0.8,
                "width": 0.8,
                "x": 0.1,
                "y": 0.1
              },
              "content": {
                "cell": "47413f67-a333-4cd6-8a6e-6b268aa4f4ff",
                "part": "whole"
              },
              "id": "8f4923d7-89d2-4193-a542-786412d24121"
            }
          }
        },
        "57d8f821-fdaf-412d-bc5c-fbaf939e7850": {
          "id": "57d8f821-fdaf-412d-bc5c-fbaf939e7850",
          "prev": "5342b691-167b-4e0f-a28f-aee2f74648b3",
          "regions": {
            "595c1191-37e3-41c2-8807-172c5221490d": {
              "attrs": {
                "height": 0.8,
                "width": 0.8,
                "x": 0.1,
                "y": 0.1
              },
              "content": {
                "cell": "885a45ac-f069-4988-b245-fcd79646e17f",
                "part": "whole"
              },
              "id": "595c1191-37e3-41c2-8807-172c5221490d"
            }
          }
        },
        "58980228-1ba8-4ba6-89d3-dd7694662786": {
          "id": "58980228-1ba8-4ba6-89d3-dd7694662786",
          "prev": "ee0491f8-b146-4b0e-99d3-ceb5eb2f3a1d",
          "regions": {
            "c5224b5d-aad4-4862-a3d1-7e6996d3d33d": {
              "attrs": {
                "height": 0.8,
                "width": 0.8,
                "x": 0.1,
                "y": 0.1
              },
              "content": {
                "cell": "8972370e-3b2e-4fe5-b7d5-e6f410f4df68",
                "part": "whole"
              },
              "id": "c5224b5d-aad4-4862-a3d1-7e6996d3d33d"
            }
          }
        },
        "58fe1e15-bd81-4c14-8c10-08606b7f56ae": {
          "id": "58fe1e15-bd81-4c14-8c10-08606b7f56ae",
          "prev": "8511eb84-692c-4a63-b3c3-7e1f86c137bd",
          "regions": {
            "c29ef705-df31-4240-987b-1697100d6ae4": {
              "attrs": {
                "height": 0.8,
                "width": 0.8,
                "x": 0.1,
                "y": 0.1
              },
              "content": {
                "cell": "b5e81c61-d695-4fc4-b784-45ed41026d4a",
                "part": "whole"
              },
              "id": "c29ef705-df31-4240-987b-1697100d6ae4"
            }
          }
        },
        "6156681f-3fe2-4d80-aab1-f7c28e200404": {
          "id": "6156681f-3fe2-4d80-aab1-f7c28e200404",
          "prev": "c17f7347-3cbe-420c-a499-3131e4eaac59",
          "regions": {
            "28d9588e-1085-432e-9b58-6e28c4d7c74f": {
              "attrs": {
                "height": 0.8,
                "width": 0.8,
                "x": 0.1,
                "y": 0.1
              },
              "content": {
                "cell": "3dbf6370-0a3a-44be-ade7-2a32586e4508",
                "part": "whole"
              },
              "id": "28d9588e-1085-432e-9b58-6e28c4d7c74f"
            }
          }
        },
        "67a167dd-f578-4c00-9a52-77864d640afa": {
          "id": "67a167dd-f578-4c00-9a52-77864d640afa",
          "prev": "b7ce05ff-6ab9-49ba-9235-05d97e6d8b19",
          "regions": {
            "b3a441dc-47d2-402e-b9fe-68a0472d5670": {
              "attrs": {
                "height": 0.8,
                "width": 0.8,
                "x": 0.1,
                "y": 0.1
              },
              "content": {
                "cell": "a67a0f57-b7bb-4ad2-89a8-f53f514d52d5",
                "part": "whole"
              },
              "id": "b3a441dc-47d2-402e-b9fe-68a0472d5670"
            }
          }
        },
        "76cecc6a-4ff3-4f36-9fcd-dc72da22db7a": {
          "id": "76cecc6a-4ff3-4f36-9fcd-dc72da22db7a",
          "prev": "107cd2c7-0a77-4fd7-922b-56df6615dcca",
          "regions": {
            "3d9e9ca1-88f1-4d57-b1ce-1cd3377e1f1e": {
              "attrs": {
                "height": 0.8,
                "width": 0.8,
                "x": 0.1,
                "y": 0.1
              },
              "content": {
                "cell": "c3f25ce7-4ac2-4e7e-ae0d-0d354b7aa34a",
                "part": "whole"
              },
              "id": "3d9e9ca1-88f1-4d57-b1ce-1cd3377e1f1e"
            }
          }
        },
        "7a3d7039-5de1-4759-9129-49437077ec67": {
          "id": "7a3d7039-5de1-4759-9129-49437077ec67",
          "prev": "76cecc6a-4ff3-4f36-9fcd-dc72da22db7a",
          "regions": {
            "f8ee8b52-b882-4e27-b1e2-4db18e65b256": {
              "attrs": {
                "height": 0.8,
                "width": 0.8,
                "x": 0.1,
                "y": 0.1
              },
              "content": {
                "cell": "4a0d9ca6-f3a4-453d-b52e-ad5d17ca5883",
                "part": "whole"
              },
              "id": "f8ee8b52-b882-4e27-b1e2-4db18e65b256"
            }
          }
        },
        "7c9758fa-71de-4938-8eed-be5dabd2d61c": {
          "id": "7c9758fa-71de-4938-8eed-be5dabd2d61c",
          "prev": "3e8e0818-4535-4e50-b8da-423cfa6bda87",
          "regions": {
            "94b0287c-da12-4bf9-ab24-b6041cab0a0f": {
              "attrs": {
                "height": 0.8,
                "width": 0.8,
                "x": 0.1,
                "y": 0.1
              },
              "content": {
                "cell": "5e5e8200-af66-4ffa-85d8-0ca019d398d8",
                "part": "whole"
              },
              "id": "94b0287c-da12-4bf9-ab24-b6041cab0a0f"
            }
          }
        },
        "8511eb84-692c-4a63-b3c3-7e1f86c137bd": {
          "id": "8511eb84-692c-4a63-b3c3-7e1f86c137bd",
          "prev": "3a9ce2a4-6dd4-463e-8d2d-4aa731447f39",
          "regions": {
            "d512994f-a930-4cb5-9feb-0c9e9b3eca21": {
              "attrs": {
                "height": 0.8,
                "width": 0.8,
                "x": 0.1,
                "y": 0.1
              },
              "content": {
                "cell": "93a5d1f3-e3b5-4840-95c2-503725844dc3",
                "part": "whole"
              },
              "id": "d512994f-a930-4cb5-9feb-0c9e9b3eca21"
            }
          }
        },
        "863c2f5d-5ed6-4abd-9212-ac3aa08b7c2d": {
          "id": "863c2f5d-5ed6-4abd-9212-ac3aa08b7c2d",
          "prev": "fa1e9266-57b6-41c8-9ad2-05119a8154fa",
          "regions": {
            "2efc3ace-624d-49f2-8602-18d3ce4fd9d1": {
              "attrs": {
                "height": 0.8,
                "width": 0.8,
                "x": 0.1,
                "y": 0.1
              },
              "content": {
                "cell": "1c22acff-5c31-4b42-a557-2be121021d1e",
                "part": "whole"
              },
              "id": "2efc3ace-624d-49f2-8602-18d3ce4fd9d1"
            }
          }
        },
        "8a00b47c-c1da-479f-b5e8-16224b1bc1ad": {
          "id": "8a00b47c-c1da-479f-b5e8-16224b1bc1ad",
          "prev": "c372f9ff-ce00-4768-8a0a-cb894e0fa65d",
          "regions": {
            "88f7e3bd-c1f1-4783-aa29-4b3871ed83c9": {
              "attrs": {
                "height": 0.8,
                "width": 0.8,
                "x": 0.1,
                "y": 0.1
              },
              "content": {
                "cell": "4bcabd6c-13d5-4a8e-a4cf-46d12550458b",
                "part": "whole"
              },
              "id": "88f7e3bd-c1f1-4783-aa29-4b3871ed83c9"
            }
          }
        },
        "8b46588c-ad23-4509-b67d-62702ed7afd1": {
          "id": "8b46588c-ad23-4509-b67d-62702ed7afd1",
          "prev": "37edb96d-7d51-438f-bd46-fc06e161e205",
          "regions": {
            "6e4458c9-28eb-4025-8ac9-d7fc0ffb8fee": {
              "attrs": {
                "height": 0.8,
                "width": 0.8,
                "x": 0.1,
                "y": 0.1
              },
              "content": {
                "cell": "575abe68-ac1a-489a-8b14-aef861c188e3",
                "part": "whole"
              },
              "id": "6e4458c9-28eb-4025-8ac9-d7fc0ffb8fee"
            }
          }
        },
        "92033db1-1754-4f97-a65f-d7fcd5e5ef5f": {
          "id": "92033db1-1754-4f97-a65f-d7fcd5e5ef5f",
          "prev": "7c9758fa-71de-4938-8eed-be5dabd2d61c",
          "regions": {
            "73b1869c-52b3-4f19-8918-f9d27d1ce96a": {
              "attrs": {
                "height": 0.8,
                "width": 0.8,
                "x": 0.1,
                "y": 0.1
              },
              "content": {
                "cell": "31f1dd1c-7279-4590-a581-4789248b9d95",
                "part": "whole"
              },
              "id": "73b1869c-52b3-4f19-8918-f9d27d1ce96a"
            }
          }
        },
        "9461c0f4-d87e-441d-915d-95c69b105ecb": {
          "id": "9461c0f4-d87e-441d-915d-95c69b105ecb",
          "prev": "92033db1-1754-4f97-a65f-d7fcd5e5ef5f",
          "regions": {
            "4dd7f598-05d6-4e49-883d-978967a66cc5": {
              "attrs": {
                "height": 0.8,
                "width": 0.8,
                "x": 0.1,
                "y": 0.1
              },
              "content": {
                "cell": "674e452c-7ba7-4c07-be5e-1e73553f8849",
                "part": "whole"
              },
              "id": "4dd7f598-05d6-4e49-883d-978967a66cc5"
            }
          }
        },
        "94c7954c-21de-44d2-81f0-746748834167": {
          "id": "94c7954c-21de-44d2-81f0-746748834167",
          "prev": "d806c3fb-ea3d-4b90-be5b-e78113b3e887",
          "regions": {
            "a853df0e-2a78-45f8-8841-72a437ba5d68": {
              "attrs": {
                "height": 0.8,
                "width": 0.8,
                "x": 0.1,
                "y": 0.1
              },
              "content": {
                "cell": "f581b3c5-979f-4ad2-95b7-e89dc86afee3",
                "part": "whole"
              },
              "id": "a853df0e-2a78-45f8-8841-72a437ba5d68"
            }
          }
        },
        "94c969b1-892d-4f1a-a832-8154573c893c": {
          "id": "94c969b1-892d-4f1a-a832-8154573c893c",
          "prev": "94c7954c-21de-44d2-81f0-746748834167",
          "regions": {
            "c1ade563-9e9b-490c-970b-37faba235b7e": {
              "attrs": {
                "height": 0.8,
                "width": 0.8,
                "x": 0.1,
                "y": 0.1
              },
              "content": {
                "cell": "e965b847-7d60-48e2-b72f-972816a1e6fc",
                "part": "whole"
              },
              "id": "c1ade563-9e9b-490c-970b-37faba235b7e"
            }
          }
        },
        "9750cf96-7612-4159-bac1-bf26fe2f60c8": {
          "id": "9750cf96-7612-4159-bac1-bf26fe2f60c8",
          "prev": "94c969b1-892d-4f1a-a832-8154573c893c",
          "regions": {
            "116d14ce-3f3d-44a1-aa86-61b1ac19354f": {
              "attrs": {
                "height": 0.8,
                "width": 0.8,
                "x": 0.1,
                "y": 0.1
              },
              "content": {
                "cell": "ddd82eaf-9b54-48bf-ac57-aa797a3a970a",
                "part": "whole"
              },
              "id": "116d14ce-3f3d-44a1-aa86-61b1ac19354f"
            }
          }
        },
        "a40bc8a7-660a-4478-8071-b97c5127c4b5": {
          "id": "a40bc8a7-660a-4478-8071-b97c5127c4b5",
          "prev": "863c2f5d-5ed6-4abd-9212-ac3aa08b7c2d",
          "regions": {
            "929e10a6-a0b0-4d31-99b1-311fcfc150a1": {
              "attrs": {
                "height": 0.8,
                "width": 0.8,
                "x": 0.1,
                "y": 0.1
              },
              "content": {
                "cell": "d7d32de7-bcdd-486d-b6c9-d5caad1164e3",
                "part": "whole"
              },
              "id": "929e10a6-a0b0-4d31-99b1-311fcfc150a1"
            }
          }
        },
        "ae384cc7-844b-4a3a-816d-4275e60a5020": {
          "id": "ae384cc7-844b-4a3a-816d-4275e60a5020",
          "prev": "26984d6c-6cdd-4fb6-a80c-b16f643b3802",
          "regions": {
            "b7a26fcd-98a6-4c24-893f-14ab3d6257bb": {
              "attrs": {
                "height": 0.8,
                "width": 0.8,
                "x": 0.1,
                "y": 0.1
              },
              "content": {
                "cell": "ddc73611-ffe2-434e-b3bd-cd417ef42b68",
                "part": "whole"
              },
              "id": "b7a26fcd-98a6-4c24-893f-14ab3d6257bb"
            }
          }
        },
        "b248eaf4-2e85-4c32-8f88-7b2ef510ee7c": {
          "id": "b248eaf4-2e85-4c32-8f88-7b2ef510ee7c",
          "prev": null,
          "regions": {
            "729796eb-5023-4fc8-b32f-83045cda3258": {
              "attrs": {
                "height": 0.8,
                "width": 0.8,
                "x": 0.1,
                "y": 0.1
              },
              "content": {
                "cell": "dad3a857-8628-4c15-a8ad-312792cb88ac",
                "part": "whole"
              },
              "id": "729796eb-5023-4fc8-b32f-83045cda3258"
            }
          }
        },
        "b7ce05ff-6ab9-49ba-9235-05d97e6d8b19": {
          "id": "b7ce05ff-6ab9-49ba-9235-05d97e6d8b19",
          "prev": "fd5b9f11-7cb4-4280-8955-7da1f2a0eafd",
          "regions": {
            "44f843a2-f9a7-4c01-be36-f2b39de5a725": {
              "attrs": {
                "height": 0.8,
                "width": 0.8,
                "x": 0.1,
                "y": 0.1
              },
              "content": {
                "cell": "852d31b9-64ee-4906-8865-dc217141338a",
                "part": "whole"
              },
              "id": "44f843a2-f9a7-4c01-be36-f2b39de5a725"
            }
          }
        },
        "bff971e4-b2b6-497d-8f6b-6401514ee2ca": {
          "id": "bff971e4-b2b6-497d-8f6b-6401514ee2ca",
          "prev": "7a3d7039-5de1-4759-9129-49437077ec67",
          "regions": {
            "07dd02d3-5ac3-4d96-9291-c3870d15f11e": {
              "attrs": {
                "height": 0.8,
                "width": 0.8,
                "x": 0.1,
                "y": 0.1
              },
              "content": {
                "cell": "31a44e48-3de3-4fa2-9c03-2063209cce11",
                "part": "whole"
              },
              "id": "07dd02d3-5ac3-4d96-9291-c3870d15f11e"
            }
          }
        },
        "c17f7347-3cbe-420c-a499-3131e4eaac59": {
          "id": "c17f7347-3cbe-420c-a499-3131e4eaac59",
          "prev": "57d8f821-fdaf-412d-bc5c-fbaf939e7850",
          "regions": {
            "7d4b25fd-aa9a-4d62-8181-05324639ff0d": {
              "attrs": {
                "height": 0.8,
                "width": 0.8,
                "x": 0.1,
                "y": 0.1
              },
              "content": {
                "cell": "35043c9c-279e-47cd-b82f-9dae8c5f9fec",
                "part": "whole"
              },
              "id": "7d4b25fd-aa9a-4d62-8181-05324639ff0d"
            }
          }
        },
        "c372f9ff-ce00-4768-8a0a-cb894e0fa65d": {
          "id": "c372f9ff-ce00-4768-8a0a-cb894e0fa65d",
          "prev": "35c31f44-06e2-4d75-a9b7-0c168d125d04",
          "regions": {
            "c3931b7b-0a33-46e0-a5b6-6b33b0075fd5": {
              "attrs": {
                "height": 0.8,
                "width": 0.8,
                "x": 0.1,
                "y": 0.1
              },
              "content": {
                "cell": "6dccff7c-9bb1-447a-9692-656ca1687626",
                "part": "whole"
              },
              "id": "c3931b7b-0a33-46e0-a5b6-6b33b0075fd5"
            }
          }
        },
        "d806c3fb-ea3d-4b90-be5b-e78113b3e887": {
          "id": "d806c3fb-ea3d-4b90-be5b-e78113b3e887",
          "prev": "094d2d0d-c7e5-40bc-bed7-bd80198e8e18",
          "regions": {
            "8ec4249f-2827-4eb0-bb27-152d4dea703f": {
              "attrs": {
                "height": 0.8,
                "width": 0.8,
                "x": 0.1,
                "y": 0.1
              },
              "content": {
                "cell": "25b7da30-19eb-4326-ba15-d969f9c1ad12",
                "part": "whole"
              },
              "id": "8ec4249f-2827-4eb0-bb27-152d4dea703f"
            }
          }
        },
        "db6c2c84-14f3-4a3f-972c-ea1e9b45b091": {
          "id": "db6c2c84-14f3-4a3f-972c-ea1e9b45b091",
          "prev": "ff25a0ae-0958-4983-b72b-6d655554983e",
          "regions": {
            "33e20b90-5ef8-482a-af30-6ebe50fa5247": {
              "attrs": {
                "height": 0.8,
                "width": 0.8,
                "x": 0.1,
                "y": 0.1
              },
              "content": {
                "cell": "b2282939-76b5-4358-8caf-bda59cd4dfc8",
                "part": "whole"
              },
              "id": "33e20b90-5ef8-482a-af30-6ebe50fa5247"
            }
          }
        },
        "de950ae7-a7c1-424c-afe2-42f481db181e": {
          "id": "de950ae7-a7c1-424c-afe2-42f481db181e",
          "prev": "58fe1e15-bd81-4c14-8c10-08606b7f56ae",
          "regions": {
            "157e2366-91bc-4374-b005-296b72401f19": {
              "attrs": {
                "height": 0.8,
                "width": 0.8,
                "x": 0.1,
                "y": 0.1
              },
              "content": {
                "cell": "6eff5466-e51a-40e9-b5d6-0e511d329721",
                "part": "whole"
              },
              "id": "157e2366-91bc-4374-b005-296b72401f19"
            }
          }
        },
        "dfaeb098-c3a9-4980-ae35-70f9b6296a7d": {
          "id": "dfaeb098-c3a9-4980-ae35-70f9b6296a7d",
          "prev": "a40bc8a7-660a-4478-8071-b97c5127c4b5",
          "regions": {
            "ff8a9509-83fc-43b8-b85d-05642f796426": {
              "attrs": {
                "height": 0.8,
                "width": 0.8,
                "x": 0.1,
                "y": 0.1
              },
              "content": {
                "cell": "139cbba6-15fb-4eb9-b2d8-a25bdbf3a874",
                "part": "whole"
              },
              "id": "ff8a9509-83fc-43b8-b85d-05642f796426"
            }
          }
        },
        "ee0491f8-b146-4b0e-99d3-ceb5eb2f3a1d": {
          "id": "ee0491f8-b146-4b0e-99d3-ceb5eb2f3a1d",
          "prev": "0c50d9ca-fef0-4e5c-8a4e-f18d1c2dbb9e",
          "regions": {
            "7e1317fc-37fb-47f2-9822-1b464ab3a0f1": {
              "attrs": {
                "height": 0.8,
                "width": 0.8,
                "x": 0.1,
                "y": 0.1
              },
              "content": {
                "cell": "93b648ee-643e-46b2-a289-f6b562875bc4",
                "part": "whole"
              },
              "id": "7e1317fc-37fb-47f2-9822-1b464ab3a0f1"
            }
          }
        },
        "fa1e9266-57b6-41c8-9ad2-05119a8154fa": {
          "id": "fa1e9266-57b6-41c8-9ad2-05119a8154fa",
          "prev": "1d02d174-1ae1-4900-bb8e-92083b3f723b",
          "regions": {
            "642cb521-a4bf-4bdf-94e4-c4e1db951bed": {
              "attrs": {
                "height": 0.8,
                "width": 0.8,
                "x": 0.1,
                "y": 0.1
              },
              "content": {
                "cell": "7bcdf43b-5617-4e59-b3d7-0c3706c527f1",
                "part": "whole"
              },
              "id": "642cb521-a4bf-4bdf-94e4-c4e1db951bed"
            }
          }
        },
        "fd5b9f11-7cb4-4280-8955-7da1f2a0eafd": {
          "id": "fd5b9f11-7cb4-4280-8955-7da1f2a0eafd",
          "prev": "8a00b47c-c1da-479f-b5e8-16224b1bc1ad",
          "regions": {
            "bafa4b52-8d5e-4af8-9b56-5cfb28caec46": {
              "attrs": {
                "height": 0.8,
                "width": 0.8,
                "x": 0.1,
                "y": 0.1
              },
              "content": {
                "cell": "d110e3f4-e865-4198-8668-17bd4f1e9540",
                "part": "whole"
              },
              "id": "bafa4b52-8d5e-4af8-9b56-5cfb28caec46"
            }
          }
        },
        "ff25a0ae-0958-4983-b72b-6d655554983e": {
          "id": "ff25a0ae-0958-4983-b72b-6d655554983e",
          "prev": "6156681f-3fe2-4d80-aab1-f7c28e200404",
          "regions": {
            "4536da0e-7194-48f1-a4eb-13fb6d74ecf5": {
              "attrs": {
                "height": 0.8,
                "width": 0.8,
                "x": 0.1,
                "y": 0.1
              },
              "content": {
                "cell": "72beaf23-bcc8-4311-b327-b67a3b07436a",
                "part": "whole"
              },
              "id": "4536da0e-7194-48f1-a4eb-13fb6d74ecf5"
            }
          }
        }
      },
      "themes": {}
    },
    "colab": {
      "name": "Chapter2_ver2.ipynb",
      "provenance": [],
      "include_colab_link": true
    }
  },
  "cells": [
    {
      "cell_type": "markdown",
      "metadata": {
        "id": "view-in-github",
        "colab_type": "text"
      },
      "source": [
        "<a href=\"https://colab.research.google.com/github/rorenge7/CellAutomaton/blob/master/Chapter2_ver2.ipynb\" target=\"_parent\"><img src=\"https://colab.research.google.com/assets/colab-badge.svg\" alt=\"Open In Colab\"/></a>"
      ]
    },
    {
      "cell_type": "markdown",
      "metadata": {
        "nbpresent": {
          "id": "af88da20-0f51-483e-bd72-afc896a9da05"
        },
        "id": "xTWPBzmt8mhv",
        "colab_type": "text"
      },
      "source": [
        "# 2 Numpy、Scipy、Pandas、Matplotlibの基礎"
      ]
    },
    {
      "cell_type": "markdown",
      "metadata": {
        "id": "3AVY_O_38mhx",
        "colab_type": "text"
      },
      "source": [
        "- **[2.1 Numpy、Scipy、Pandas、Matpltolibの基礎](#2.1-Numpy、Scipy、Pandas、Matpltolibの基礎)** \n",
        "    - [2.1.1 Numpyの基礎](#2.1.1-Numpyの基礎)\n",
        "    - [2.1.2 Scipyの基礎](#2.1.2-Scipyの基礎)\n",
        "    - [2.1.3 Pandasの基礎](#2.1.3-Pandasの基礎)\n",
        "    - [2.1.4 Matplotlibの基礎](#2.1.4-Matplotlibの基礎)\n",
        "<br><br>\n",
        "- **[2.2 総合問題](#2.2-総合問題)**\n",
        "    - [2.2.1 モンテカルロ法](#2.2.1-モンテカルロ法)"
      ]
    },
    {
      "cell_type": "markdown",
      "metadata": {
        "collapsed": true,
        "id": "EXbF9HaY8mhy",
        "colab_type": "text"
      },
      "source": [
        "\n",
        "***"
      ]
    },
    {
      "cell_type": "markdown",
      "metadata": {
        "nbpresent": {
          "id": "b0fc1861-b979-45c5-abd0-3b05200de3b6"
        },
        "id": "ubfjbsYf8mh0",
        "colab_type": "text"
      },
      "source": [
        "## 2.1 Numpy、Scipy、Pandas、Matpltolibの基礎\n",
        "ゴール：Numpy、Scipy、Pandas、Matplotlibのモジュールを読み込みそれらの基本的な役割を知る"
      ]
    },
    {
      "cell_type": "code",
      "metadata": {
        "id": "AkJSCNKX8mh1",
        "colab_type": "code",
        "outputId": "b1e9c747-d55a-4a84-90ca-9cf0524eb72c",
        "colab": {
          "base_uri": "https://localhost:8080/",
          "height": 34
        }
      },
      "source": [
        "# 以下のモジュールを使うので、あらかじめ読み込んでおいてください\n",
        "import numpy as np\n",
        "import numpy.random as random\n",
        "import scipy as sp\n",
        "import pandas as pd\n",
        "from pandas import Series, DataFrame\n",
        "\n",
        "# 可視化モジュール\n",
        "import matplotlib.pyplot as plt\n",
        "import matplotlib as mpl\n",
        "import seaborn as sns\n",
        "%matplotlib inline\n",
        "\n",
        "# 小数第３まで表示\n",
        "%precision 3"
      ],
      "execution_count": 0,
      "outputs": [
        {
          "output_type": "execute_result",
          "data": {
            "text/plain": [
              "'%.3f'"
            ]
          },
          "metadata": {
            "tags": []
          },
          "execution_count": 16
        }
      ]
    },
    {
      "cell_type": "markdown",
      "metadata": {
        "id": "ppcyWb9K8mh8",
        "colab_type": "text"
      },
      "source": [
        "### 2.1.1 Numpyの基礎\n",
        "キーワード：多次元配列、転置、行列の積、乱数、復元抽出、非復元抽出"
      ]
    },
    {
      "cell_type": "markdown",
      "metadata": {
        "id": "bNzARBw18mh9",
        "colab_type": "text"
      },
      "source": [
        "この章では、データ分析でよく使われるPythonのモジュールNumpy、Scipy、Pandas、Matplotlibについて基礎的な使い方を学びます。これらのモジュールを扱ったのは、今後紹介する機械学習のsklearn等のモジュールのベースとなっており、またデータを前処理したり、可視化するのに非常に便利なツールだからです。ここではこれらの使い方の基本を紹介しますが、さらに詳しいことは次の章以降で学びます。\n",
        "\n",
        "まずは、Numpyの基本的な使い方についてです。Numpyを使うと、多次元配列を処理することができます。実際に扱うデータは多次元であることが多く、その処理をするためにNumpyを使うと便利です。また、NumpyはCで実装されており、処理が高速です。\n",
        "\n",
        "以下で、**import** モジュール名（numpy）でモジュールを読み込んでおり、**as** で短い名前（ここではnp）をつけます。これで該当のモジュールが使えるようになります。なお、%はマジックコマンドと言われJupyter Notebookで使える特殊変数ようなものです。以下はその1つであるprecisionを使って、小数点第3位まで結果を表示させるようにしています。他にも色々とありますので、都度紹介します。"
      ]
    },
    {
      "cell_type": "code",
      "metadata": {
        "scrolled": true,
        "id": "6EaoADoM8mh-",
        "colab_type": "code",
        "outputId": "88a5a9a0-fbea-4a9c-c9d0-1fd5b7d6efaf",
        "colab": {
          "base_uri": "https://localhost:8080/",
          "height": 34
        }
      },
      "source": [
        "# numpyモジュールの読み込み\n",
        "import numpy as np\n",
        "\n",
        "# 小数第３まで表示という意味\n",
        "%precision 3"
      ],
      "execution_count": 0,
      "outputs": [
        {
          "output_type": "execute_result",
          "data": {
            "text/plain": [
              "'%.3f'"
            ]
          },
          "metadata": {
            "tags": []
          },
          "execution_count": 2
        }
      ]
    },
    {
      "cell_type": "markdown",
      "metadata": {
        "id": "Lj81TwNU8miC",
        "colab_type": "text"
      },
      "source": [
        "まずは、1から10までの配列を作成してみましょう。np.と後にarrayをつけて、配列を作っています。(数字が綺麗に並んでないですが、後から並び替えをするためにわざと作っています。)"
      ]
    },
    {
      "cell_type": "code",
      "metadata": {
        "id": "sxI7kBl78miD",
        "colab_type": "code",
        "outputId": "ca0032a6-7fd1-4a8e-f96e-c8278c527b3c",
        "colab": {}
      },
      "source": [
        "# 配列の作成\n",
        "sample_numpy_data = np.array([9,2,3,4,10,6,7,8,1,5])\n",
        "sample_numpy_data"
      ],
      "execution_count": 0,
      "outputs": [
        {
          "output_type": "execute_result",
          "data": {
            "text/plain": [
              "array([ 9,  2,  3,  4, 10,  6,  7,  8,  1,  5])"
            ]
          },
          "metadata": {
            "tags": []
          },
          "execution_count": 3
        }
      ]
    },
    {
      "cell_type": "markdown",
      "metadata": {
        "id": "1CI_0fu88miK",
        "colab_type": "text"
      },
      "source": [
        "次に、このデータの型をチェックするために、変数の後に「.」をつけて、dtypeを記述しています。以下の出力はintとありますので、整数型であることがわかります。これもオブジェクト型プログラミングの特徴です。ちなみに、「.」を入力後にタブ[tab]キーを押せば、その変数がもっているオブジェクトが表示されますので、そこから該当のものを選んで実行しましょう。そうすることで、すべてのオブジェクト等を正確に覚える必要はないですし、タイプミスも減ります。"
      ]
    },
    {
      "cell_type": "code",
      "metadata": {
        "id": "C2qwCBUy8miL",
        "colab_type": "code",
        "outputId": "bf6c1795-f213-4ed5-b6fe-f9cc98e1293c",
        "colab": {
          "base_uri": "https://localhost:8080/",
          "height": 168
        }
      },
      "source": [
        "# データの型\n",
        "sample_numpy_data.dtype"
      ],
      "execution_count": 0,
      "outputs": [
        {
          "output_type": "error",
          "ename": "NameError",
          "evalue": "ignored",
          "traceback": [
            "\u001b[0;31m---------------------------------------------------------------------------\u001b[0m",
            "\u001b[0;31mNameError\u001b[0m                                 Traceback (most recent call last)",
            "\u001b[0;32m<ipython-input-3-94ad62320093>\u001b[0m in \u001b[0;36m<module>\u001b[0;34m()\u001b[0m\n\u001b[0;32m----> 1\u001b[0;31m \u001b[0msample_numpy_data\u001b[0m\u001b[0;34m.\u001b[0m\u001b[0mdtype\u001b[0m\u001b[0;34m\u001b[0m\u001b[0;34m\u001b[0m\u001b[0m\n\u001b[0m",
            "\u001b[0;31mNameError\u001b[0m: name 'sample_numpy_data' is not defined"
          ]
        }
      ]
    },
    {
      "cell_type": "markdown",
      "metadata": {
        "id": "_6zJfkS88miO",
        "colab_type": "text"
      },
      "source": [
        ">**[ポイント]**\n",
        "\n",
        ">作業（コーディング）を早く正確にするためには、タブ[tab]を使いなそう"
      ]
    },
    {
      "cell_type": "markdown",
      "metadata": {
        "id": "XyAOqmbm8miQ",
        "colab_type": "text"
      },
      "source": [
        "以下は、データの次元数と要素数を表示しています。ndimとsizeです。これを使うことで、データの大きさ等がどれくらいなのかわかります。"
      ]
    },
    {
      "cell_type": "code",
      "metadata": {
        "id": "rZFzSkaU8miT",
        "colab_type": "code",
        "outputId": "4dade391-ae75-41a4-da64-c2dbf7450b1a",
        "colab": {}
      },
      "source": [
        "# 次元数\n",
        "print(\"次元数:\",sample_numpy_data.ndim)\n",
        "\n",
        "# 要素数\n",
        "print(\"要素数:\",sample_numpy_data.size)"
      ],
      "execution_count": 0,
      "outputs": [
        {
          "output_type": "stream",
          "text": [
            "次元数: 1\n",
            "要素数: 10\n"
          ],
          "name": "stdout"
        }
      ]
    },
    {
      "cell_type": "markdown",
      "metadata": {
        "id": "T5_054cA8miZ",
        "colab_type": "text"
      },
      "source": [
        "for文で書いた同じ結果（それぞれの数字を係数倍）も、Numpyを使うとだいぶ楽になります。"
      ]
    },
    {
      "cell_type": "code",
      "metadata": {
        "id": "x2dmUyJf8mia",
        "colab_type": "code",
        "outputId": "a876454d-0d3f-4da3-93ed-e4a51fb1ce8a",
        "colab": {}
      },
      "source": [
        "# それぞれの数字を係数倍（ここでは2倍）\n",
        "sample_numpy_data * 2"
      ],
      "execution_count": 0,
      "outputs": [
        {
          "output_type": "execute_result",
          "data": {
            "text/plain": [
              "array([18,  4,  6,  8, 20, 12, 14, 16,  2, 10])"
            ]
          },
          "metadata": {
            "tags": []
          },
          "execution_count": 6
        }
      ]
    },
    {
      "cell_type": "markdown",
      "metadata": {
        "id": "oRoX3gBD8mid",
        "colab_type": "text"
      },
      "source": [
        "それぞれの要素での掛け算や割り算も、for文などを使わずに簡単に計算できます。"
      ]
    },
    {
      "cell_type": "code",
      "metadata": {
        "id": "0OYP5LRa8mif",
        "colab_type": "code",
        "outputId": "ce25644b-4b33-48ec-cb76-7d48a688f3c6",
        "colab": {}
      },
      "source": [
        "# それぞれの要素同士での演算\n",
        "print(\"掛け算:\",np.array([1,2,3,4,5,6,7,8,9,10]) * np.array([10,9,8,7,6,5,4,3,2,1]))\n",
        "print(\"累乗:\",np.array([1,2,3,4,5,6,7,8,9,10]) **2)\n",
        "print(\"割り算:\",np.array([1,2,3,4,5,6,7,8,9,10]) / np.array([10,9,8,7,6,5,4,3,2,1]))"
      ],
      "execution_count": 0,
      "outputs": [
        {
          "output_type": "stream",
          "text": [
            "掛け算: [10 18 24 28 30 30 28 24 18 10]\n",
            "累乗: [  1   4   9  16  25  36  49  64  81 100]\n",
            "割り算: [  0.1     0.222   0.375   0.571   0.833   1.2     1.75    2.667   4.5    10.   ]\n"
          ],
          "name": "stdout"
        }
      ]
    },
    {
      "cell_type": "markdown",
      "metadata": {
        "id": "fJRomsHW8mii",
        "colab_type": "text"
      },
      "source": [
        "以下では、0や1のデータを作っています。「zeros」は全ての要素を0で作成し、「ones」は全ての要素を1で作成します。dtypeで型を指定しています。"
      ]
    },
    {
      "cell_type": "code",
      "metadata": {
        "scrolled": true,
        "id": "8qleCIY38mii",
        "colab_type": "code",
        "outputId": "2324b853-c8ce-48b8-c0b4-eebce8940475",
        "colab": {}
      },
      "source": [
        "# 0 や 1の初期化データ\n",
        "# (2,3)は2行3列の行列データを作っています。\n",
        "zero_data = np.zeros((2,3), dtype='i')\n",
        "one_data = np.ones((2,3), dtype='f')\n",
        "\n",
        "print(\"・0でint型　\\n\", zero_data)\n",
        "\n",
        "print(\"・1でfloat型 \\n\", one_data)"
      ],
      "execution_count": 0,
      "outputs": [
        {
          "output_type": "stream",
          "text": [
            "・0でint型　\n",
            " [[0 0 0]\n",
            " [0 0 0]]\n",
            "・1でfloat型 \n",
            " [[ 1.  1.  1.]\n",
            " [ 1.  1.  1.]]\n"
          ],
          "name": "stdout"
        }
      ]
    },
    {
      "cell_type": "markdown",
      "metadata": {
        "id": "Vsx0k2vc8mil",
        "colab_type": "text"
      },
      "source": [
        "次は、配列の数字をソート（並び替え）してみましょう。デフォルトでは、昇順（小さい数字から大きい数字）になります。"
      ]
    },
    {
      "cell_type": "code",
      "metadata": {
        "id": "OjT3ZRsn8mim",
        "colab_type": "code",
        "outputId": "6290f346-9df4-430c-aba5-36e22da0a519",
        "colab": {}
      },
      "source": [
        "print(\"そのまま：\",sample_numpy_data)\n",
        "\n",
        "# ソート\n",
        "sample_numpy_data.sort()\n",
        "print(\"ソート後：\",sample_numpy_data)"
      ],
      "execution_count": 0,
      "outputs": [
        {
          "output_type": "stream",
          "text": [
            "そのまま： [ 9  2  3  4 10  6  7  8  1  5]\n",
            "ソート後： [ 1  2  3  4  5  6  7  8  9 10]\n"
          ],
          "name": "stdout"
        }
      ]
    },
    {
      "cell_type": "markdown",
      "metadata": {
        "id": "zybc2c6J8mip",
        "colab_type": "text"
      },
      "source": [
        "なお、降順（大きい数字から小さい数字）にしたい場合は、sample_numpy_data[::-1].sort()のように、**スライス**を使ってやります。[::-1]は、-1つずつ飛ばすという意味で、-1は逆からを意味するので、逆さから数字を1つずたどっていくことになります。"
      ]
    },
    {
      "cell_type": "markdown",
      "metadata": {
        "id": "iJ49nlSs8miq",
        "colab_type": "text"
      },
      "source": [
        "minやmaxを呼び出すことで、最小値や最大値なども求めることができます。これもオブジェクト指向の特徴です。積み上げcumsumは、前から順に足しあげていく演算です。"
      ]
    },
    {
      "cell_type": "code",
      "metadata": {
        "scrolled": true,
        "id": "PB0dLaux8mir",
        "colab_type": "code",
        "outputId": "665f737c-a321-4d88-93ad-874fee313ca9",
        "colab": {}
      },
      "source": [
        "# 最小値\n",
        "print(\"Min:\",sample_numpy_data.min())\n",
        "# 最大値\n",
        "print(\"Max:\",sample_numpy_data.max())\n",
        "# 合計\n",
        "print(\"Sum:\",sample_numpy_data.sum())\n",
        "# 積み上げ\n",
        "print(\"Cum:\",sample_numpy_data.cumsum())\n",
        "# 積み上げ割合\n",
        "print(\"Ratio:\",sample_numpy_data.cumsum()/sample_numpy_data.sum())"
      ],
      "execution_count": 0,
      "outputs": [
        {
          "output_type": "stream",
          "text": [
            "Min: 1\n",
            "Max: 10\n",
            "Sum: 55\n",
            "Cum: [ 1  3  6 10 15 21 28 36 45 55]\n",
            "Ratio: [ 0.018  0.055  0.109  0.182  0.273  0.382  0.509  0.655  0.818  1.   ]\n"
          ],
          "name": "stdout"
        }
      ]
    },
    {
      "cell_type": "markdown",
      "metadata": {
        "id": "YlDO9-t38miu",
        "colab_type": "text"
      },
      "source": [
        "次は、乱数についてです。乱数とは、簡単にいうと規則性のないデタラメな数をいいます。乱数を発生するときには、Numpyを使うことが多く、計算するときには以下のようにします。10個の乱数を発生させています。seedはなくても大丈夫ですが、乱数を固定化し、のちの検証などで一定の値を担保できます。正規分布等については後で説明します。平均が0でデータの散らばり具合を意味する分散が1の確率分布に従うデータから数字を取り出します。"
      ]
    },
    {
      "cell_type": "code",
      "metadata": {
        "id": "4Y8YpSZQ8miv",
        "colab_type": "code",
        "outputId": "74a9d865-90ce-4f33-ebf9-d05db1b4ba97",
        "colab": {}
      },
      "source": [
        "# 乱数の発生のためのモジュール読み込み\n",
        "import numpy.random as random\n",
        "\n",
        "# seedを設定することで乱数を固定化することができる\n",
        "# これを設定しないと、テストなどでチェックするときに再現が困難になる\n",
        "random.seed(0)\n",
        "\n",
        "# 正規分布（平均0、分散1）の乱数を10個発生\n",
        "norm_random_sample_data = random.randn(10)\n",
        "\n",
        "print(\"乱数10個の配列:\", norm_random_sample_data)"
      ],
      "execution_count": 0,
      "outputs": [
        {
          "output_type": "stream",
          "text": [
            "乱数10個の配列: [ 1.764  0.4    0.979  2.241  1.868 -0.977  0.95  -0.151 -0.103  0.411]\n"
          ],
          "name": "stdout"
        }
      ]
    },
    {
      "cell_type": "markdown",
      "metadata": {
        "id": "ZCUIsGkl8miz",
        "colab_type": "text"
      },
      "source": [
        "次は、発生させたデータの中から数字を抽出しています。random.choiceを使っています。replaceはデフォルトでTrueで、この場合は、データの中から重複を許してデータを抜き出す方法で、これを**復元抽出**と言います。一方、replaceをFalseに設定する場合はデータの重複を許さずにデータを抜き出す方法で、これを**非復元抽出**と言います。"
      ]
    },
    {
      "cell_type": "code",
      "metadata": {
        "id": "DRl_CAbG8mi0",
        "colab_type": "code",
        "outputId": "74dc0e58-fc7f-4894-a603-724e81a5052c",
        "colab": {}
      },
      "source": [
        "# ランダム抽出\n",
        "print(random.choice(norm_random_sample_data,10))# 10個を抽出（重複あり,復元抽出）\n",
        "print(random.choice(norm_random_sample_data,10,replace=False)) # 10個を抽出（重複なし、非復元抽出)"
      ],
      "execution_count": 0,
      "outputs": [
        {
          "output_type": "stream",
          "text": [
            "[ 0.95  -0.151 -0.151 -0.103  0.4   -0.977  0.411 -0.103  0.411  1.868]\n",
            "[ 1.868  0.4    0.95  -0.151  0.979 -0.103 -0.977  0.411  1.764  2.241]\n"
          ],
          "name": "stdout"
        }
      ]
    },
    {
      "cell_type": "markdown",
      "metadata": {
        "id": "1hBzsZiO8mi5",
        "colab_type": "text"
      },
      "source": [
        "復元抽出では、同じ数字が何個かあったりしますが、非復元抽出では、同じ数字が入ることはありません。"
      ]
    },
    {
      "cell_type": "markdown",
      "metadata": {
        "id": "av43MyWd8mi6",
        "colab_type": "text"
      },
      "source": [
        ">**[やってみよう]**\n",
        "\n",
        ">seed(0)の0を変えたり、ランダム抽出の数を増やしたりして、結果どうなっているか表示してみましょう。"
      ]
    },
    {
      "cell_type": "markdown",
      "metadata": {
        "id": "KPldL_8i8mi7",
        "colab_type": "text"
      },
      "source": [
        "次は、Numpyを用いた場合の計算時間の比較です。乱数を10の6乗コ発生させて、それを合計する実装です。一番はじめは普通の処理、2つ目がNumpyを使った処理です。"
      ]
    },
    {
      "cell_type": "code",
      "metadata": {
        "id": "ayhZUslF8mi8",
        "colab_type": "code",
        "outputId": "bce7684f-138d-4c50-f0f2-3d6bbd8c0713",
        "colab": {
          "base_uri": "https://localhost:8080/",
          "height": 51
        }
      },
      "source": [
        "import random\n",
        "import numpy as np\n",
        "# Nは乱数の発生数、10の6乗\n",
        "N = 10**6\n",
        "# normal version (以下のrange(N)は0からN-1までの整数を用意しています。 _ はあとで変数として使用しないため、このように表現します。)\n",
        "normal_sample_data = [random.random() for _ in range(N)]\n",
        "# numpy version\n",
        "numpy_random_data = np.array(normal_sample_data)\n",
        "\n",
        "# calc time :合計値\n",
        "%timeit sum(normal_sample_data)\n",
        "%timeit np.sum(numpy_random_data)"
      ],
      "execution_count": 0,
      "outputs": [
        {
          "output_type": "stream",
          "text": [
            "100 loops, best of 3: 4.93 ms per loop\n",
            "1000 loops, best of 3: 442 µs per loop\n"
          ],
          "name": "stdout"
        }
      ]
    },
    {
      "cell_type": "markdown",
      "metadata": {
        "id": "-4vkd8qm8mjA",
        "colab_type": "text"
      },
      "source": [
        "普通に演算するよりも、Numpyを使った方(np.sum())が早くなりました。%timeitは何回か同じ計算をして、ベスト3の平均計算時間を返しています。1つ目の「100 loops, best of 3: 5.78 ms per loop」は、100回計算して、ベスト3の計算時間平均が5.78ミリ秒という意味です。"
      ]
    },
    {
      "cell_type": "markdown",
      "metadata": {
        "id": "28Z98bBb8mjB",
        "colab_type": "text"
      },
      "source": [
        ">**[ポイント]**\n",
        "\n",
        ">パフォーマンス等をあげたい場合は、%timeit を使いながら、計算時間をチェックしましょう。"
      ]
    },
    {
      "cell_type": "markdown",
      "metadata": {
        "id": "5qnaFvzM8mjC",
        "colab_type": "text"
      },
      "source": [
        "次は、Numpyを使って、行列を作成しています。0〜8までの数字を3×3行列で表示しています。arrange(9)は0から8までの整数で、その後にreshapeで行列に変換しています。"
      ]
    },
    {
      "cell_type": "code",
      "metadata": {
        "id": "zYYgP7438mjD",
        "colab_type": "code",
        "outputId": "a2fd5df2-a04d-45b3-9c9f-0457e8c26751",
        "colab": {}
      },
      "source": [
        "# データの準備\n",
        "sample_multi_array_data1 = np.arange(9).reshape(3,3)\n",
        "print(sample_multi_array_data1)"
      ],
      "execution_count": 0,
      "outputs": [
        {
          "output_type": "stream",
          "text": [
            "[[0 1 2]\n",
            " [3 4 5]\n",
            " [6 7 8]]\n"
          ],
          "name": "stdout"
        }
      ]
    },
    {
      "cell_type": "markdown",
      "metadata": {
        "id": "aKyBXE3e8mjF",
        "colab_type": "text"
      },
      "source": [
        "行や列のみを抜き出す場合は、以下のようにします。[0,:]はインデックス0の行で、列はすべて取り出すという意味です。"
      ]
    },
    {
      "cell_type": "code",
      "metadata": {
        "id": "0oCEdnvq8mjG",
        "colab_type": "code",
        "outputId": "549dcd66-d1ef-4437-e6fd-9f213c1a25f5",
        "colab": {}
      },
      "source": [
        "# 行\n",
        "sample_multi_array_data1[0,:]"
      ],
      "execution_count": 0,
      "outputs": [
        {
          "output_type": "execute_result",
          "data": {
            "text/plain": [
              "array([0, 1, 2])"
            ]
          },
          "metadata": {
            "tags": []
          },
          "execution_count": 15
        }
      ]
    },
    {
      "cell_type": "markdown",
      "metadata": {
        "id": "9x1n_wvT8mjJ",
        "colab_type": "text"
      },
      "source": [
        "行や列のみを抜き出す場合は、以下のようにします。[:,0]はインデックス0の列で、行はすべて取り出すという意味です。"
      ]
    },
    {
      "cell_type": "code",
      "metadata": {
        "id": "bBmvVS408mjK",
        "colab_type": "code",
        "outputId": "79555f1c-21d5-4b29-9e09-c3cfcf1da13b",
        "colab": {}
      },
      "source": [
        "# 列\n",
        "sample_multi_array_data1[:,0]"
      ],
      "execution_count": 0,
      "outputs": [
        {
          "output_type": "execute_result",
          "data": {
            "text/plain": [
              "array([0, 3, 6])"
            ]
          },
          "metadata": {
            "tags": []
          },
          "execution_count": 16
        }
      ]
    },
    {
      "cell_type": "markdown",
      "metadata": {
        "id": "1HLjZtyk8mjM",
        "colab_type": "text"
      },
      "source": [
        "行列の掛け算をしてみましょう。以下は、データの準備として、同じ行数と列数の行列を作成しています。"
      ]
    },
    {
      "cell_type": "code",
      "metadata": {
        "id": "ipi2nhlL8mjN",
        "colab_type": "code",
        "outputId": "6675dd41-a391-4741-dfeb-3e20cbfaaf6e",
        "colab": {}
      },
      "source": [
        "sample_multi_array_data2 = np.arange(9,18).reshape(3,3)\n",
        "print(sample_multi_array_data2)"
      ],
      "execution_count": 0,
      "outputs": [
        {
          "output_type": "stream",
          "text": [
            "[[ 9 10 11]\n",
            " [12 13 14]\n",
            " [15 16 17]]\n"
          ],
          "name": "stdout"
        }
      ]
    },
    {
      "cell_type": "markdown",
      "metadata": {
        "id": "ycw5-dIi8mjP",
        "colab_type": "text"
      },
      "source": [
        "行列の掛け算では、dotを使います。なお、*を使うと、それぞれの要素を掛け算するだけなので、注意しましょう。"
      ]
    },
    {
      "cell_type": "code",
      "metadata": {
        "id": "eUNfrBoI8mjQ",
        "colab_type": "code",
        "outputId": "e17fb8f5-4af4-43f8-ad77-31611a2493a8",
        "colab": {}
      },
      "source": [
        "# 行列の積\n",
        "np.dot(sample_multi_array_data1,sample_multi_array_data2)"
      ],
      "execution_count": 0,
      "outputs": [
        {
          "output_type": "execute_result",
          "data": {
            "text/plain": [
              "array([[ 42,  45,  48],\n",
              "       [150, 162, 174],\n",
              "       [258, 279, 300]])"
            ]
          },
          "metadata": {
            "tags": []
          },
          "execution_count": 18
        }
      ]
    },
    {
      "cell_type": "code",
      "metadata": {
        "id": "_r8OshoO8mjU",
        "colab_type": "code",
        "outputId": "71344654-0a3f-4011-a7f9-ab11ca45cdf6",
        "colab": {}
      },
      "source": [
        "# 要素の積(注：行列の掛け算ではありません)\n",
        "sample_multi_array_data1 * sample_multi_array_data2"
      ],
      "execution_count": 0,
      "outputs": [
        {
          "output_type": "execute_result",
          "data": {
            "text/plain": [
              "array([[  0,  10,  22],\n",
              "       [ 36,  52,  70],\n",
              "       [ 90, 112, 136]])"
            ]
          },
          "metadata": {
            "tags": []
          },
          "execution_count": 19
        }
      ]
    },
    {
      "cell_type": "markdown",
      "metadata": {
        "id": "_izy1l_w8mjW",
        "colab_type": "text"
      },
      "source": [
        "#### <練習問題 1>\n",
        "\n",
        "1から50までの自然数の和を計算するプログラムを書いて、最後の計算結果を表示させるプログラムを書いてください。ただし、Numpyを使ってください。"
      ]
    },
    {
      "cell_type": "code",
      "metadata": {
        "id": "VtIxNZbCF9me",
        "colab_type": "code",
        "outputId": "9878c441-d101-40b4-dee2-a8d94d4f9ca2",
        "colab": {
          "base_uri": "https://localhost:8080/",
          "height": 34
        }
      },
      "source": [
        "import numpy as np\n",
        "\n",
        "np.arange(50).sum()"
      ],
      "execution_count": 0,
      "outputs": [
        {
          "output_type": "execute_result",
          "data": {
            "text/plain": [
              "1225"
            ]
          },
          "metadata": {
            "tags": []
          },
          "execution_count": 5
        }
      ]
    },
    {
      "cell_type": "markdown",
      "metadata": {
        "id": "bKBn1Bqe8mjX",
        "colab_type": "text"
      },
      "source": [
        "#### <練習問題 2>\n",
        "\n",
        "正規分布に従う乱数を10個発生させて配列を作成してください。また、その中での最小値、最大値、合計を求めるプログラムを書いてください。"
      ]
    },
    {
      "cell_type": "code",
      "metadata": {
        "id": "ygf4HtfMGcEe",
        "colab_type": "code",
        "outputId": "d36746ea-59ce-4944-fe4c-ef00c15fd540",
        "colab": {
          "base_uri": "https://localhost:8080/",
          "height": 85
        }
      },
      "source": [
        "import numpy.random as random\n",
        "a = random.randn(10)\n",
        "print(a)\n",
        "print(a.max())\n",
        "print(a.min())\n",
        "print(a.mean())"
      ],
      "execution_count": 0,
      "outputs": [
        {
          "output_type": "stream",
          "text": [
            "[ 0.451 -1.227  0.1    0.311  1.27   0.504  1.215  1.025 -1.058 -0.874]\n",
            "1.2695402323616083\n",
            "-1.226693321474834\n",
            "0.1716956234929528\n"
          ],
          "name": "stdout"
        }
      ]
    },
    {
      "cell_type": "markdown",
      "metadata": {
        "id": "2XH03JVN8mjY",
        "colab_type": "text"
      },
      "source": [
        "#### <練習問題 3>\n",
        "\n",
        "要素がすべて3の5行5列の行列を作成し、その行列の2乗をする計算をしてみましょう。"
      ]
    },
    {
      "cell_type": "code",
      "metadata": {
        "id": "RZfNlafRG-JQ",
        "colab_type": "code",
        "outputId": "4d6a9d14-cda6-41cd-a407-e5603c3082d3",
        "colab": {
          "base_uri": "https://localhost:8080/",
          "height": 187
        }
      },
      "source": [
        "import numpy as np\n",
        "\n",
        "a = np.ones((5,5), dtype=np.int8)*5\n",
        "print(a)\n",
        "print(np.dot(a,a))"
      ],
      "execution_count": 0,
      "outputs": [
        {
          "output_type": "stream",
          "text": [
            "[[5 5 5 5 5]\n",
            " [5 5 5 5 5]\n",
            " [5 5 5 5 5]\n",
            " [5 5 5 5 5]\n",
            " [5 5 5 5 5]]\n",
            "[[125 125 125 125 125]\n",
            " [125 125 125 125 125]\n",
            " [125 125 125 125 125]\n",
            " [125 125 125 125 125]\n",
            " [125 125 125 125 125]]\n"
          ],
          "name": "stdout"
        }
      ]
    },
    {
      "cell_type": "markdown",
      "metadata": {
        "id": "LKATD39R8mjZ",
        "colab_type": "text"
      },
      "source": [
        "### 2.1.2 Scipyの基礎\n",
        "キーワード：逆行列、固有値、固有ベクトル、最適化"
      ]
    },
    {
      "cell_type": "markdown",
      "metadata": {
        "id": "4HsKL23J8mjZ",
        "colab_type": "text"
      },
      "source": [
        "Scipyは科学技術計算をするためのモジュールで、多様な数学処理が可能です。ここでは、線形代数の逆行列や固有値、方程式の解などを求めてみましょう。なお、これらの用語がわからない方は、ネットで調べるか、以前紹介した参考文献で学習してください。"
      ]
    },
    {
      "cell_type": "code",
      "metadata": {
        "id": "ZA8Jtm1k8mja",
        "colab_type": "code",
        "colab": {}
      },
      "source": [
        "# Scipyのモジュール\n",
        "import scipy as sp\n",
        "\n",
        "# 線形代数用のモジュール\n",
        "import scipy.linalg as linalg\n",
        "\n",
        "# 最適化計算（最小値）用のモジュール\n",
        "from scipy.optimize import minimize_scalar"
      ],
      "execution_count": 0,
      "outputs": []
    },
    {
      "cell_type": "markdown",
      "metadata": {
        "id": "0BmfGWmx8mjf",
        "colab_type": "text"
      },
      "source": [
        "以下は、ある行列に対して行列式を求めています。detを使います。"
      ]
    },
    {
      "cell_type": "code",
      "metadata": {
        "id": "zSXVm1QG8mjg",
        "colab_type": "code",
        "outputId": "57d38595-e051-4977-a4b6-2f8ee2e6eb34",
        "colab": {}
      },
      "source": [
        "# サンプルデータ作成\n",
        "sample_matrix_data = np.array([[1,-1,-1],[-1,1,-1],[-1,-1,1]])\n",
        "\n",
        "# 行列式\n",
        "print(\"行列式\")\n",
        "print(linalg.det(sample_matrix_data))"
      ],
      "execution_count": 0,
      "outputs": [
        {
          "output_type": "stream",
          "text": [
            "行列式\n",
            "-4.0\n"
          ],
          "name": "stdout"
        }
      ]
    },
    {
      "cell_type": "markdown",
      "metadata": {
        "id": "xIrS-NQp8mjk",
        "colab_type": "text"
      },
      "source": [
        "次は、逆行列です。invを使います。"
      ]
    },
    {
      "cell_type": "code",
      "metadata": {
        "id": "DZlpk99t8mjl",
        "colab_type": "code",
        "outputId": "e84100e6-4e88-44d9-d578-cdddda9295e4",
        "colab": {}
      },
      "source": [
        "# 逆行列\n",
        "print(\"逆行列\")\n",
        "print(linalg.inv(sample_matrix_data))"
      ],
      "execution_count": 0,
      "outputs": [
        {
          "output_type": "stream",
          "text": [
            "逆行列\n",
            "[[ 0.  -0.5 -0.5]\n",
            " [-0.5 -0.  -0.5]\n",
            " [-0.5 -0.5  0. ]]\n"
          ],
          "name": "stdout"
        }
      ]
    },
    {
      "cell_type": "markdown",
      "metadata": {
        "id": "uqxxXqOs8mjp",
        "colab_type": "text"
      },
      "source": [
        "念のため、確認してみましょう。行列の積が単位行列になっていることがわかります。"
      ]
    },
    {
      "cell_type": "code",
      "metadata": {
        "id": "goDkikl28mjq",
        "colab_type": "code",
        "outputId": "8a09131e-65fd-4aa5-80ca-29a3d9d643a0",
        "colab": {}
      },
      "source": [
        "# 確認\n",
        "print(sample_matrix_data.dot(linalg.inv(sample_matrix_data)))"
      ],
      "execution_count": 0,
      "outputs": [
        {
          "output_type": "stream",
          "text": [
            "[[ 1.  0.  0.]\n",
            " [ 0.  1.  0.]\n",
            " [ 0.  0.  1.]]\n"
          ],
          "name": "stdout"
        }
      ]
    },
    {
      "cell_type": "markdown",
      "metadata": {
        "id": "bgCe7Ekf8mju",
        "colab_type": "text"
      },
      "source": [
        "次は、固有値と固有ベクトルを算出しています。"
      ]
    },
    {
      "cell_type": "code",
      "metadata": {
        "id": "-Cyo2RsU8mjv",
        "colab_type": "code",
        "outputId": "ce247934-1c74-4e2d-c3a3-75a7ac5f10c8",
        "colab": {}
      },
      "source": [
        "# 固有値と固有ベクトル\n",
        "eig_value, eig_vector = linalg.eig(sample_matrix_data)\n",
        "\n",
        "# 固有値と固有ベクトル\n",
        "print(\"固有値\")\n",
        "print(eig_value)\n",
        "print(\"固有ベクトル\")\n",
        "print(eig_vector)"
      ],
      "execution_count": 0,
      "outputs": [
        {
          "output_type": "stream",
          "text": [
            "固有値\n",
            "[-1.+0.j  2.+0.j  2.+0.j]\n",
            "固有ベクトル\n",
            "[[ 0.577 -0.816  0.428]\n",
            " [ 0.577  0.408 -0.816]\n",
            " [ 0.577  0.408  0.389]]\n"
          ],
          "name": "stdout"
        }
      ]
    },
    {
      "cell_type": "markdown",
      "metadata": {
        "id": "PA6zYa-Z8mjy",
        "colab_type": "text"
      },
      "source": [
        "次は最適化計算を使って、方程式の解を求めてみましょう。ここで計算する式として、"
      ]
    },
    {
      "cell_type": "markdown",
      "metadata": {
        "id": "VWPx74ZQ8mj0",
        "colab_type": "text"
      },
      "source": [
        "\\begin{eqnarray}\n",
        "f(x) = x^2 + 2x +1\n",
        "\\end{eqnarray}"
      ]
    },
    {
      "cell_type": "markdown",
      "metadata": {
        "id": "IPvqQJqO8mj0",
        "colab_type": "text"
      },
      "source": [
        "の2次関数を考えます。もちろん、紙と鉛筆で計算することも可能で、解は-1ですが、解の近似計算でよく使われるニュートン法を使って求めてみましょう。まずは、上の関数を用意します。"
      ]
    },
    {
      "cell_type": "code",
      "metadata": {
        "id": "CvtliAA38mj1",
        "colab_type": "code",
        "colab": {}
      },
      "source": [
        "# 関数の定義\n",
        "def sample_function(x):\n",
        "    return (x**2 + 2*x + 1)"
      ],
      "execution_count": 0,
      "outputs": []
    },
    {
      "cell_type": "markdown",
      "metadata": {
        "id": "wS3m8aZ-8mj4",
        "colab_type": "text"
      },
      "source": [
        "次に、f(x)=0の解xを求めるために、以下でnewton関数を使います。newton関数の1つ目の引数が先ほど用意した関数sample_functionをセットし、2つ目の引数にはf(x)=0 の0をセットします。"
      ]
    },
    {
      "cell_type": "code",
      "metadata": {
        "id": "0jCnYRsh8mj5",
        "colab_type": "code",
        "outputId": "b6d16ca7-f096-4541-f19e-398c9059e6ee",
        "colab": {}
      },
      "source": [
        "# ニュートン法の読み込み\n",
        "from scipy.optimize import newton\n",
        "\n",
        "# 計算実行\n",
        "print(newton(sample_function,0))"
      ],
      "execution_count": 0,
      "outputs": [
        {
          "output_type": "stream",
          "text": [
            "-0.9999999852953547\n"
          ],
          "name": "stdout"
        }
      ]
    },
    {
      "cell_type": "markdown",
      "metadata": {
        "id": "qu_CVWvl8mj8",
        "colab_type": "text"
      },
      "source": [
        "ほぼ-1になっているのがわかります。"
      ]
    },
    {
      "cell_type": "markdown",
      "metadata": {
        "id": "9IfGbTRm8mj9",
        "colab_type": "text"
      },
      "source": [
        "なお、ニュートン法をはじめて聞いた方は検索をして調べるか、以下のサイト等を参考にしてください。"
      ]
    },
    {
      "cell_type": "markdown",
      "metadata": {
        "id": "4_lRHd8w8mj-",
        "colab_type": "text"
      },
      "source": [
        ">[参考URL]\n",
        "\n",
        ">https://ja.wikipedia.org/wiki/ニュートン法\n",
        "\n",
        ">http://qiita.com/PlanetMeron/items/09d7eb204868e1a49f49"
      ]
    },
    {
      "cell_type": "markdown",
      "metadata": {
        "id": "4qX8CYEe8mj-",
        "colab_type": "text"
      },
      "source": [
        "次に同じ関数で、最小値を求めることを考えます。ここでは、minimize_scalarを使うことにします。なお、パラメータでは、Brent 法を使っており、放物線補間法と黄金分割法（単峰関数の極値（極大値または極小値）を求める方法）を組み合わせた方法で、黄金分割法よりも収束が速いのが特徴です。この講座では、あまり使わないので、用語等については覚えなくても大丈夫ですが、これら以外にも色々なアプローチ方法がありますので、時間がある方は調べてみてください。"
      ]
    },
    {
      "cell_type": "code",
      "metadata": {
        "id": "GIR_K25S8mkA",
        "colab_type": "code",
        "outputId": "ac68b597-c4b7-4945-fc6d-664d97b10e27",
        "colab": {}
      },
      "source": [
        "# 計算実行\n",
        "print(minimize_scalar(sample_function,method=\"Brent\"))"
      ],
      "execution_count": 0,
      "outputs": [
        {
          "output_type": "stream",
          "text": [
            "     fun: 0.0\n",
            "    nfev: 5\n",
            "     nit: 4\n",
            " success: True\n",
            "       x: -1.0000000000000002\n"
          ],
          "name": "stdout"
        }
      ]
    },
    {
      "cell_type": "markdown",
      "metadata": {
        "id": "NdpHNlMo8mkC",
        "colab_type": "text"
      },
      "source": [
        "ここでScipyについては一旦終了します。次の章でさらに色々な科学計算（積分や微分方程式など）ができることを学びます。"
      ]
    },
    {
      "cell_type": "markdown",
      "metadata": {
        "id": "BCrGCb868mkF",
        "colab_type": "text"
      },
      "source": [
        ">**[やってみよう]**\n",
        "\n",
        ">上の関数を変更したりして、最小値等を計算を実行してみましょう。"
      ]
    },
    {
      "cell_type": "markdown",
      "metadata": {
        "id": "TpQNOsZM8mkF",
        "colab_type": "text"
      },
      "source": [
        "#### <練習問題 1>\n",
        "\n",
        "以下の行列について、行列式を求めてください。\n",
        "\n",
        "$\n",
        "  A = \\left(\n",
        "    \\begin{array}{ccc}\n",
        "      1 & 2 & 3 \\\\\n",
        "      1 & 3 & 2 \\\\\n",
        "      3 & 1 & 2\n",
        "    \\end{array}\n",
        "  \\right)\n",
        "$"
      ]
    },
    {
      "cell_type": "code",
      "metadata": {
        "id": "cuFLhU0oJJ2d",
        "colab_type": "code",
        "outputId": "201c0af8-6da7-442c-ed88-cc5413d1173a",
        "colab": {
          "base_uri": "https://localhost:8080/",
          "height": 34
        }
      },
      "source": [
        "# Scipyのモジュール\n",
        "import scipy as sp\n",
        "import numpy as np\n",
        "# 線形代数用のモジュール\n",
        "import scipy.linalg as linalg\n",
        "\n",
        "# 最適化計算（最小値）用のモジュール\n",
        "from scipy.optimize import minimize_scalar\n",
        "a = np.array([[1,2,3], [1,3,2], [3,1,2]])\n",
        "linalg.det(a)"
      ],
      "execution_count": 0,
      "outputs": [
        {
          "output_type": "execute_result",
          "data": {
            "text/plain": [
              "-12.000"
            ]
          },
          "metadata": {
            "tags": []
          },
          "execution_count": 22
        }
      ]
    },
    {
      "cell_type": "markdown",
      "metadata": {
        "id": "mxrsRWYR8mkJ",
        "colab_type": "text"
      },
      "source": [
        "#### <練習問題 2>\n",
        "\n",
        "上と同じ行列について、逆行列、固有値と固有ベクトルを求めてください。"
      ]
    },
    {
      "cell_type": "code",
      "metadata": {
        "id": "bey1UFbMV4ZH",
        "colab_type": "code",
        "outputId": "817ecce1-8107-40ff-b112-ed855d673583",
        "colab": {
          "base_uri": "https://localhost:8080/",
          "height": 136
        }
      },
      "source": [
        "# Scipyのモジュール\n",
        "import scipy as sp\n",
        "import numpy as np\n",
        "# 線形代数用のモジュール\n",
        "import scipy.linalg as linalg\n",
        "\n",
        "# 最適化計算（最小値）用のモジュール\n",
        "from scipy.optimize import minimize_scalar\n",
        "a = np.array([[1,2,3], [1,3,2], [3,1,2]])\n",
        "print(linalg.inv(a))\n",
        "eig_value, eig_vector = linalg.eig(a)\n",
        "print(eig_value)\n",
        "print(eig_vector)"
      ],
      "execution_count": 0,
      "outputs": [
        {
          "output_type": "stream",
          "text": [
            "[[-0.333  0.083  0.417]\n",
            " [-0.333  0.583 -0.083]\n",
            " [ 0.667 -0.417 -0.083]]\n",
            "[ 6.   +0.j -1.414+0.j  1.414+0.j]\n",
            "[[-0.577 -0.722  0.16 ]\n",
            " [-0.577 -0.143 -0.811]\n",
            " [-0.577  0.677  0.563]]\n"
          ],
          "name": "stdout"
        }
      ]
    },
    {
      "cell_type": "markdown",
      "metadata": {
        "id": "L9s2OUB98mkK",
        "colab_type": "text"
      },
      "source": [
        "#### <練習問題 3>\n",
        "\n",
        "以下の関数が0となる解を求めてみましょう。"
      ]
    },
    {
      "cell_type": "markdown",
      "metadata": {
        "id": "1dnNFj-P8mkL",
        "colab_type": "text"
      },
      "source": [
        "\\begin{eqnarray}\n",
        "f(x) = x^3 + 2x+ 1\n",
        "\\end{eqnarray}"
      ]
    },
    {
      "cell_type": "code",
      "metadata": {
        "id": "rOOOSGbLcdDf",
        "colab_type": "code",
        "outputId": "75d41553-301d-4175-d08c-7817284091df",
        "colab": {
          "base_uri": "https://localhost:8080/",
          "height": 51
        }
      },
      "source": [
        "# Scipyのモジュール\n",
        "import scipy as sp\n",
        "import numpy as np\n",
        "# 線形代数用のモジュール\n",
        "import scipy.linalg as linalg\n",
        "from scipy.optimize import newton\n",
        "\n",
        "def f (x):\n",
        "  return x**3 + 2*x +1\n",
        "\n",
        "# 計算実行\n",
        "x = newton(f,0)\n",
        "print(x)\n",
        "print(f(x))"
      ],
      "execution_count": 0,
      "outputs": [
        {
          "output_type": "stream",
          "text": [
            "-0.45339765151640365\n",
            "3.3306690738754696e-16\n"
          ],
          "name": "stdout"
        }
      ]
    },
    {
      "cell_type": "markdown",
      "metadata": {
        "id": "ylOFIbPJ8mkM",
        "colab_type": "text"
      },
      "source": [
        "### 2.1.3 Pandasの基礎\n",
        "キーワード：Series、DataFrame、データの操作、データの結合、ソート"
      ]
    },
    {
      "cell_type": "markdown",
      "metadata": {
        "id": "-I0LVJj-8mkP",
        "colab_type": "text"
      },
      "source": [
        "ここでは、Pandasについて学びます。Pandasを使うと、データの様々なハンドリングをスムーズに柔軟に実施することができ、表計算や後ほど学ぶデータベースのようなデータ操作が可能となります。以下で、必要となるモジュールを読み込んできます。"
      ]
    },
    {
      "cell_type": "code",
      "metadata": {
        "nbpresent": {
          "id": "93a5d1f3-e3b5-4840-95c2-503725844dc3"
        },
        "id": "yzJgiRgO8mkR",
        "colab_type": "code",
        "colab": {}
      },
      "source": [
        "from pandas import Series,DataFrame\n",
        "import pandas as pd"
      ],
      "execution_count": 0,
      "outputs": []
    },
    {
      "cell_type": "markdown",
      "metadata": {
        "id": "PJrEQHOZ8mkV",
        "colab_type": "text"
      },
      "source": [
        "以下では、Seriesを使っています。これは、配列のようなオブジェクトです。インデックスも左に表示しています。"
      ]
    },
    {
      "cell_type": "code",
      "metadata": {
        "id": "gbogR90t8mkY",
        "colab_type": "code",
        "outputId": "044fb290-5bc2-41dc-c1ce-64d1973a81b6",
        "colab": {
          "base_uri": "https://localhost:8080/",
          "height": 238
        }
      },
      "source": [
        "from pandas import Series,DataFrame\n",
        "import pandas as pd\n",
        "# Series\n",
        "sample_pandas_data = pd.Series([0,1,2,3,4,5,6,7,8,9])\n",
        "print(sample_pandas_data)\n",
        "print(\"データの値:\",sample_pandas_data.values)\n",
        "print(\"インデックスの値:\",sample_pandas_data.index)"
      ],
      "execution_count": 0,
      "outputs": [
        {
          "output_type": "stream",
          "text": [
            "0    0\n",
            "1    1\n",
            "2    2\n",
            "3    3\n",
            "4    4\n",
            "5    5\n",
            "6    6\n",
            "7    7\n",
            "8    8\n",
            "9    9\n",
            "dtype: int64\n",
            "データの値: [0 1 2 3 4 5 6 7 8 9]\n",
            "インデックスの値: RangeIndex(start=0, stop=10, step=1)\n"
          ],
          "name": "stdout"
        }
      ]
    },
    {
      "cell_type": "code",
      "metadata": {
        "id": "a7vM8qAk8mkb",
        "colab_type": "code",
        "outputId": "40db29b7-d830-4b33-cf46-229479a408ca",
        "colab": {}
      },
      "source": [
        "print(\"データの値:\",sample_pandas_data.values)\n",
        "print(\"インデックスの値:\",sample_pandas_data.index)"
      ],
      "execution_count": 0,
      "outputs": [
        {
          "output_type": "stream",
          "text": [
            "データの値: [0 1 2 3 4 5 6 7 8 9]\n",
            "インデックスの値: RangeIndex(start=0, stop=10, step=1)\n"
          ],
          "name": "stdout"
        }
      ]
    },
    {
      "cell_type": "markdown",
      "metadata": {
        "id": "Rd63VAp98mkj",
        "colab_type": "text"
      },
      "source": [
        "もし、インデックスを数字ではなく、何か特定の文字などに置き換えたい場合は、以下のように宣言します。"
      ]
    },
    {
      "cell_type": "code",
      "metadata": {
        "id": "WJJ5uPMa8mkj",
        "colab_type": "code",
        "outputId": "8bc9793e-b915-42dd-9755-dc5660216f4e",
        "colab": {}
      },
      "source": [
        "# indexを文字で\n",
        "sample_pandas_index_data = pd.Series([0,1,2,3,4,5,6,7,8,9]\n",
        "                                     ,index=['a','b','c','d','e','f','g','h','i','j'])\n",
        "print(sample_pandas_index_data)"
      ],
      "execution_count": 0,
      "outputs": [
        {
          "output_type": "stream",
          "text": [
            "a    0\n",
            "b    1\n",
            "c    2\n",
            "d    3\n",
            "e    4\n",
            "f    5\n",
            "g    6\n",
            "h    7\n",
            "i    8\n",
            "j    9\n",
            "dtype: int64\n"
          ],
          "name": "stdout"
        }
      ]
    },
    {
      "cell_type": "code",
      "metadata": {
        "id": "ncVWj5mV8mkl",
        "colab_type": "code",
        "outputId": "7ca0e073-f362-40ca-8640-f5861c78540b",
        "colab": {}
      },
      "source": [
        "print(\"データの値:\",sample_pandas_index_data.values)\n",
        "print(\"インデックスの値:\",sample_pandas_index_data.index)"
      ],
      "execution_count": 0,
      "outputs": [
        {
          "output_type": "stream",
          "text": [
            "データの値: [0 1 2 3 4 5 6 7 8 9]\n",
            "インデックスの値: Index(['a', 'b', 'c', 'd', 'e', 'f', 'g', 'h', 'i', 'j'], dtype='object')\n"
          ],
          "name": "stdout"
        }
      ]
    },
    {
      "cell_type": "markdown",
      "metadata": {
        "id": "6lEenMuf8mko",
        "colab_type": "text"
      },
      "source": [
        "次は、DataFrameについてです。DataFrameは各々の列で異なる型を持たせることが可能です。"
      ]
    },
    {
      "cell_type": "code",
      "metadata": {
        "id": "IQzYNQV-8mkp",
        "colab_type": "code",
        "outputId": "18791d7a-cd0b-4b71-efe5-47949a69f927",
        "colab": {}
      },
      "source": [
        "attri_data1 = {'ID':['100','101','102','103','104']\n",
        "        ,'city':['Tokyo','Osaka','Kyoto','Hokkaidao','Tokyo']\n",
        "        ,'birth_year':[1990,1989,1992,1997,1982]\n",
        "        ,'name':['Hiroshi','Akiko','Yuki','Satoru','Steeve']}\n",
        "\n",
        "attri_data_frame1 = DataFrame(attri_data1)\n",
        "\n",
        "print(attri_data_frame1)"
      ],
      "execution_count": 0,
      "outputs": [
        {
          "output_type": "stream",
          "text": [
            "    ID  birth_year       city     name\n",
            "0  100        1990      Tokyo  Hiroshi\n",
            "1  101        1989      Osaka    Akiko\n",
            "2  102        1992      Kyoto     Yuki\n",
            "3  103        1997  Hokkaidao   Satoru\n",
            "4  104        1982      Tokyo   Steeve\n"
          ],
          "name": "stdout"
        }
      ]
    },
    {
      "cell_type": "markdown",
      "metadata": {
        "id": "a11nmZPu8mkr",
        "colab_type": "text"
      },
      "source": [
        "DataFrameも、インデックスの更新が可能です。"
      ]
    },
    {
      "cell_type": "code",
      "metadata": {
        "id": "j1TeViob8mks",
        "colab_type": "code",
        "outputId": "e1db3858-2f54-449f-9002-ec8cd009da7c",
        "colab": {}
      },
      "source": [
        "attri_data_frame_index1 = DataFrame(attri_data1,index=['a','b','c','d','e'])\n",
        "print(attri_data_frame_index1)"
      ],
      "execution_count": 0,
      "outputs": [
        {
          "output_type": "stream",
          "text": [
            "    ID  birth_year       city     name\n",
            "a  100        1990      Tokyo  Hiroshi\n",
            "b  101        1989      Osaka    Akiko\n",
            "c  102        1992      Kyoto     Yuki\n",
            "d  103        1997  Hokkaidao   Satoru\n",
            "e  104        1982      Tokyo   Steeve\n"
          ],
          "name": "stdout"
        }
      ]
    },
    {
      "cell_type": "markdown",
      "metadata": {
        "id": "xGU9H9sW8mkx",
        "colab_type": "text"
      },
      "source": [
        "行列の転置のように、ひっくり返す場合には、.Tを使います。"
      ]
    },
    {
      "cell_type": "code",
      "metadata": {
        "id": "rJU7cPfQ8mky",
        "colab_type": "code",
        "outputId": "1edc6903-818d-4f21-f81f-1e8618e571c5",
        "colab": {}
      },
      "source": [
        "# 転置\n",
        "attri_data_frame1.T"
      ],
      "execution_count": 0,
      "outputs": [
        {
          "output_type": "execute_result",
          "data": {
            "text/html": [
              "<div>\n",
              "<table border=\"1\" class=\"dataframe\">\n",
              "  <thead>\n",
              "    <tr style=\"text-align: right;\">\n",
              "      <th></th>\n",
              "      <th>0</th>\n",
              "      <th>1</th>\n",
              "      <th>2</th>\n",
              "      <th>3</th>\n",
              "      <th>4</th>\n",
              "    </tr>\n",
              "  </thead>\n",
              "  <tbody>\n",
              "    <tr>\n",
              "      <th>ID</th>\n",
              "      <td>100</td>\n",
              "      <td>101</td>\n",
              "      <td>102</td>\n",
              "      <td>103</td>\n",
              "      <td>104</td>\n",
              "    </tr>\n",
              "    <tr>\n",
              "      <th>birth_year</th>\n",
              "      <td>1990</td>\n",
              "      <td>1989</td>\n",
              "      <td>1992</td>\n",
              "      <td>1997</td>\n",
              "      <td>1982</td>\n",
              "    </tr>\n",
              "    <tr>\n",
              "      <th>city</th>\n",
              "      <td>Tokyo</td>\n",
              "      <td>Osaka</td>\n",
              "      <td>Kyoto</td>\n",
              "      <td>Hokkaidao</td>\n",
              "      <td>Tokyo</td>\n",
              "    </tr>\n",
              "    <tr>\n",
              "      <th>name</th>\n",
              "      <td>Hiroshi</td>\n",
              "      <td>Akiko</td>\n",
              "      <td>Yuki</td>\n",
              "      <td>Satoru</td>\n",
              "      <td>Steeve</td>\n",
              "    </tr>\n",
              "  </tbody>\n",
              "</table>\n",
              "</div>"
            ],
            "text/plain": [
              "                  0      1      2          3       4\n",
              "ID              100    101    102        103     104\n",
              "birth_year     1990   1989   1992       1997    1982\n",
              "city          Tokyo  Osaka  Kyoto  Hokkaidao   Tokyo\n",
              "name        Hiroshi  Akiko   Yuki     Satoru  Steeve"
            ]
          },
          "metadata": {
            "tags": []
          },
          "execution_count": 35
        }
      ]
    },
    {
      "cell_type": "markdown",
      "metadata": {
        "id": "d0BiBOA_8mk0",
        "colab_type": "text"
      },
      "source": [
        "特定の列を指定したい場合は、データの後にカラム名をつけます。複数の場合は、複数のカラム名を指定しましょう。"
      ]
    },
    {
      "cell_type": "code",
      "metadata": {
        "id": "3lL3bQMl8mk1",
        "colab_type": "code",
        "outputId": "fbc6e5cb-2cc6-4f21-8854-302e42b4e246",
        "colab": {}
      },
      "source": [
        "# 列名の指定（１つ）\n",
        "attri_data_frame1.birth_year"
      ],
      "execution_count": 0,
      "outputs": [
        {
          "output_type": "execute_result",
          "data": {
            "text/plain": [
              "0    1990\n",
              "1    1989\n",
              "2    1992\n",
              "3    1997\n",
              "4    1982\n",
              "Name: birth_year, dtype: int64"
            ]
          },
          "metadata": {
            "tags": []
          },
          "execution_count": 36
        }
      ]
    },
    {
      "cell_type": "code",
      "metadata": {
        "id": "E9IOFO7g8mk3",
        "colab_type": "code",
        "outputId": "289af045-c492-40cb-be78-8f4468fc200d",
        "colab": {}
      },
      "source": [
        "# 列名の指定(複数の場合)\n",
        "attri_data_frame1[[\"ID\",\"birth_year\"]]"
      ],
      "execution_count": 0,
      "outputs": [
        {
          "output_type": "execute_result",
          "data": {
            "text/html": [
              "<div>\n",
              "<table border=\"1\" class=\"dataframe\">\n",
              "  <thead>\n",
              "    <tr style=\"text-align: right;\">\n",
              "      <th></th>\n",
              "      <th>ID</th>\n",
              "      <th>birth_year</th>\n",
              "    </tr>\n",
              "  </thead>\n",
              "  <tbody>\n",
              "    <tr>\n",
              "      <th>0</th>\n",
              "      <td>100</td>\n",
              "      <td>1990</td>\n",
              "    </tr>\n",
              "    <tr>\n",
              "      <th>1</th>\n",
              "      <td>101</td>\n",
              "      <td>1989</td>\n",
              "    </tr>\n",
              "    <tr>\n",
              "      <th>2</th>\n",
              "      <td>102</td>\n",
              "      <td>1992</td>\n",
              "    </tr>\n",
              "    <tr>\n",
              "      <th>3</th>\n",
              "      <td>103</td>\n",
              "      <td>1997</td>\n",
              "    </tr>\n",
              "    <tr>\n",
              "      <th>4</th>\n",
              "      <td>104</td>\n",
              "      <td>1982</td>\n",
              "    </tr>\n",
              "  </tbody>\n",
              "</table>\n",
              "</div>"
            ],
            "text/plain": [
              "    ID  birth_year\n",
              "0  100        1990\n",
              "1  101        1989\n",
              "2  102        1992\n",
              "3  103        1997\n",
              "4  104        1982"
            ]
          },
          "metadata": {
            "tags": []
          },
          "execution_count": 37
        }
      ]
    },
    {
      "cell_type": "markdown",
      "metadata": {
        "id": "YljbUJvW8mk5",
        "colab_type": "text"
      },
      "source": [
        "一定の条件を満たすものだけ、データを取り出すことも可能です。例えば、cityがTokyoのみのデータを抽出したい場合は、以下のようにします。"
      ]
    },
    {
      "cell_type": "code",
      "metadata": {
        "id": "tKOEzRx68mk5",
        "colab_type": "code",
        "outputId": "bcd13c81-7531-420f-ac26-90e45ae6ce4b",
        "colab": {}
      },
      "source": [
        "#　条件（フィルター）\n",
        "attri_data_frame1[attri_data_frame1['city']=='Tokyo']"
      ],
      "execution_count": 0,
      "outputs": [
        {
          "output_type": "execute_result",
          "data": {
            "text/html": [
              "<div>\n",
              "<table border=\"1\" class=\"dataframe\">\n",
              "  <thead>\n",
              "    <tr style=\"text-align: right;\">\n",
              "      <th></th>\n",
              "      <th>ID</th>\n",
              "      <th>birth_year</th>\n",
              "      <th>city</th>\n",
              "      <th>name</th>\n",
              "    </tr>\n",
              "  </thead>\n",
              "  <tbody>\n",
              "    <tr>\n",
              "      <th>0</th>\n",
              "      <td>100</td>\n",
              "      <td>1990</td>\n",
              "      <td>Tokyo</td>\n",
              "      <td>Hiroshi</td>\n",
              "    </tr>\n",
              "    <tr>\n",
              "      <th>4</th>\n",
              "      <td>104</td>\n",
              "      <td>1982</td>\n",
              "      <td>Tokyo</td>\n",
              "      <td>Steeve</td>\n",
              "    </tr>\n",
              "  </tbody>\n",
              "</table>\n",
              "</div>"
            ],
            "text/plain": [
              "    ID  birth_year   city     name\n",
              "0  100        1990  Tokyo  Hiroshi\n",
              "4  104        1982  Tokyo   Steeve"
            ]
          },
          "metadata": {
            "tags": []
          },
          "execution_count": 38
        }
      ]
    },
    {
      "cell_type": "markdown",
      "metadata": {
        "id": "Fl_DNeBi8mk7",
        "colab_type": "text"
      },
      "source": [
        "値を複数の条件で取り出したい場合は、isin(リスト)を以下のようにして、使ってください。あとの章でも使います。"
      ]
    },
    {
      "cell_type": "code",
      "metadata": {
        "id": "KQ9HbiR18mk7",
        "colab_type": "code",
        "outputId": "40053792-1888-47a3-9496-690bc3e9cc31",
        "colab": {}
      },
      "source": [
        "#　条件（フィルター、複数の値）\n",
        "attri_data_frame1[attri_data_frame1['city'].isin(['Tokyo','Osaka'])]"
      ],
      "execution_count": 0,
      "outputs": [
        {
          "output_type": "execute_result",
          "data": {
            "text/html": [
              "<div>\n",
              "<table border=\"1\" class=\"dataframe\">\n",
              "  <thead>\n",
              "    <tr style=\"text-align: right;\">\n",
              "      <th></th>\n",
              "      <th>ID</th>\n",
              "      <th>birth_year</th>\n",
              "      <th>city</th>\n",
              "      <th>name</th>\n",
              "    </tr>\n",
              "  </thead>\n",
              "  <tbody>\n",
              "    <tr>\n",
              "      <th>0</th>\n",
              "      <td>100</td>\n",
              "      <td>1990</td>\n",
              "      <td>Tokyo</td>\n",
              "      <td>Hiroshi</td>\n",
              "    </tr>\n",
              "    <tr>\n",
              "      <th>1</th>\n",
              "      <td>101</td>\n",
              "      <td>1989</td>\n",
              "      <td>Osaka</td>\n",
              "      <td>Akiko</td>\n",
              "    </tr>\n",
              "    <tr>\n",
              "      <th>4</th>\n",
              "      <td>104</td>\n",
              "      <td>1982</td>\n",
              "      <td>Tokyo</td>\n",
              "      <td>Steeve</td>\n",
              "    </tr>\n",
              "  </tbody>\n",
              "</table>\n",
              "</div>"
            ],
            "text/plain": [
              "    ID  birth_year   city     name\n",
              "0  100        1990  Tokyo  Hiroshi\n",
              "1  101        1989  Osaka    Akiko\n",
              "4  104        1982  Tokyo   Steeve"
            ]
          },
          "metadata": {
            "tags": []
          },
          "execution_count": 39
        }
      ]
    },
    {
      "cell_type": "markdown",
      "metadata": {
        "id": "gvqI5ybN8mk9",
        "colab_type": "text"
      },
      "source": [
        ">**[やってみよう]**\n",
        "\n",
        ">他にも条件を変更（birth_yearが1990未満など）して、フィルターを実行してみましょう。"
      ]
    },
    {
      "cell_type": "markdown",
      "metadata": {
        "id": "DsgKnvf58mk9",
        "colab_type": "text"
      },
      "source": [
        "ある特定の列を削除する方法は以下のようになります。axisで軸を設定し、1の場合は列方向です。行の削除はインデックスを指定して、axis=0とします。"
      ]
    },
    {
      "cell_type": "code",
      "metadata": {
        "id": "WkMEdGlr8mk9",
        "colab_type": "code",
        "outputId": "aad03e81-220a-45bb-9656-9eb67f2d026f",
        "colab": {}
      },
      "source": [
        "# データの列の削除\n",
        "attri_data_frame1.drop(['birth_year'],axis=1)"
      ],
      "execution_count": 0,
      "outputs": [
        {
          "output_type": "execute_result",
          "data": {
            "text/html": [
              "<div>\n",
              "<table border=\"1\" class=\"dataframe\">\n",
              "  <thead>\n",
              "    <tr style=\"text-align: right;\">\n",
              "      <th></th>\n",
              "      <th>ID</th>\n",
              "      <th>city</th>\n",
              "      <th>name</th>\n",
              "    </tr>\n",
              "  </thead>\n",
              "  <tbody>\n",
              "    <tr>\n",
              "      <th>0</th>\n",
              "      <td>100</td>\n",
              "      <td>Tokyo</td>\n",
              "      <td>Hiroshi</td>\n",
              "    </tr>\n",
              "    <tr>\n",
              "      <th>1</th>\n",
              "      <td>101</td>\n",
              "      <td>Osaka</td>\n",
              "      <td>Akiko</td>\n",
              "    </tr>\n",
              "    <tr>\n",
              "      <th>2</th>\n",
              "      <td>102</td>\n",
              "      <td>Kyoto</td>\n",
              "      <td>Yuki</td>\n",
              "    </tr>\n",
              "    <tr>\n",
              "      <th>3</th>\n",
              "      <td>103</td>\n",
              "      <td>Hokkaidao</td>\n",
              "      <td>Satoru</td>\n",
              "    </tr>\n",
              "    <tr>\n",
              "      <th>4</th>\n",
              "      <td>104</td>\n",
              "      <td>Tokyo</td>\n",
              "      <td>Steeve</td>\n",
              "    </tr>\n",
              "  </tbody>\n",
              "</table>\n",
              "</div>"
            ],
            "text/plain": [
              "    ID       city     name\n",
              "0  100      Tokyo  Hiroshi\n",
              "1  101      Osaka    Akiko\n",
              "2  102      Kyoto     Yuki\n",
              "3  103  Hokkaidao   Satoru\n",
              "4  104      Tokyo   Steeve"
            ]
          },
          "metadata": {
            "tags": []
          },
          "execution_count": 40
        }
      ]
    },
    {
      "cell_type": "markdown",
      "metadata": {
        "id": "nirfHiw58mlA",
        "colab_type": "text"
      },
      "source": [
        "次は、別のデータテーブルがあった時に、キーをベースにして、テーブルを結合する方法です。mergeを使います。なお、キーを明示しない場合は、自動で見つけて結合します。"
      ]
    },
    {
      "cell_type": "code",
      "metadata": {
        "id": "eQgjnqdx8mlB",
        "colab_type": "code",
        "outputId": "2a846910-b862-48ed-f53f-14c88059cdb6",
        "colab": {}
      },
      "source": [
        "# 別のデータの準備\n",
        "attri_data2 = {'ID':['100','101','102','105','107']\n",
        "        ,'math':[50,43,33,76,98]\n",
        "        ,'English':[90,30,20,50,30]\n",
        "        ,'sex':['M','F','F','M','M']}\n",
        "attri_data_frame2 = DataFrame(attri_data2)\n",
        "print(attri_data_frame2)"
      ],
      "execution_count": 0,
      "outputs": [
        {
          "output_type": "stream",
          "text": [
            "   English   ID  math sex\n",
            "0       90  100    50   M\n",
            "1       30  101    43   F\n",
            "2       20  102    33   F\n",
            "3       50  105    76   M\n",
            "4       30  107    98   M\n"
          ],
          "name": "stdout"
        }
      ]
    },
    {
      "cell_type": "markdown",
      "metadata": {
        "id": "vvfzAOIU8mlC",
        "colab_type": "text"
      },
      "source": [
        "以下で結合しています。キーはIDで、100,101,102が共通であるため、それで結合しています。"
      ]
    },
    {
      "cell_type": "code",
      "metadata": {
        "id": "_nfQkCOs8mlE",
        "colab_type": "code",
        "outputId": "1b25d557-6da3-4818-c5f9-7a1de1293b2b",
        "colab": {}
      },
      "source": [
        "# データのマージ（内部結合、詳しくは次の章で）\n",
        "pd.merge(attri_data_frame1,attri_data_frame2)"
      ],
      "execution_count": 0,
      "outputs": [
        {
          "output_type": "execute_result",
          "data": {
            "text/html": [
              "<div>\n",
              "<table border=\"1\" class=\"dataframe\">\n",
              "  <thead>\n",
              "    <tr style=\"text-align: right;\">\n",
              "      <th></th>\n",
              "      <th>ID</th>\n",
              "      <th>birth_year</th>\n",
              "      <th>city</th>\n",
              "      <th>name</th>\n",
              "      <th>English</th>\n",
              "      <th>math</th>\n",
              "      <th>sex</th>\n",
              "    </tr>\n",
              "  </thead>\n",
              "  <tbody>\n",
              "    <tr>\n",
              "      <th>0</th>\n",
              "      <td>100</td>\n",
              "      <td>1990</td>\n",
              "      <td>Tokyo</td>\n",
              "      <td>Hiroshi</td>\n",
              "      <td>90</td>\n",
              "      <td>50</td>\n",
              "      <td>M</td>\n",
              "    </tr>\n",
              "    <tr>\n",
              "      <th>1</th>\n",
              "      <td>101</td>\n",
              "      <td>1989</td>\n",
              "      <td>Osaka</td>\n",
              "      <td>Akiko</td>\n",
              "      <td>30</td>\n",
              "      <td>43</td>\n",
              "      <td>F</td>\n",
              "    </tr>\n",
              "    <tr>\n",
              "      <th>2</th>\n",
              "      <td>102</td>\n",
              "      <td>1992</td>\n",
              "      <td>Kyoto</td>\n",
              "      <td>Yuki</td>\n",
              "      <td>20</td>\n",
              "      <td>33</td>\n",
              "      <td>F</td>\n",
              "    </tr>\n",
              "  </tbody>\n",
              "</table>\n",
              "</div>"
            ],
            "text/plain": [
              "    ID  birth_year   city     name  English  math sex\n",
              "0  100        1990  Tokyo  Hiroshi       90    50   M\n",
              "1  101        1989  Osaka    Akiko       30    43   F\n",
              "2  102        1992  Kyoto     Yuki       20    33   F"
            ]
          },
          "metadata": {
            "tags": []
          },
          "execution_count": 42
        }
      ]
    },
    {
      "cell_type": "markdown",
      "metadata": {
        "id": "TzNDAEj98mlH",
        "colab_type": "text"
      },
      "source": [
        "次はグループ集計といい、groupbyを使うことで、ある特定のカラムを軸にした集計ができます。以下は、性を軸として、数学のスコア平均を算出しています。他には、最大値や最小値等も算出できます。"
      ]
    },
    {
      "cell_type": "code",
      "metadata": {
        "id": "erhjqMAv8mlI",
        "colab_type": "code",
        "outputId": "c191d013-cb2f-477e-dd2c-1d138b3f421f",
        "colab": {}
      },
      "source": [
        "# データのグループ集計(詳しくは次の章で)\n",
        "attri_data_frame2.groupby(\"sex\")[\"math\"].mean()"
      ],
      "execution_count": 0,
      "outputs": [
        {
          "output_type": "execute_result",
          "data": {
            "text/plain": [
              "sex\n",
              "F    38.000000\n",
              "M    74.666667\n",
              "Name: math, dtype: float64"
            ]
          },
          "metadata": {
            "tags": []
          },
          "execution_count": 43
        }
      ]
    },
    {
      "cell_type": "markdown",
      "metadata": {
        "id": "DK19dEQC8mlK",
        "colab_type": "text"
      },
      "source": [
        ">**[やってみよう]**\n",
        "\n",
        ">他にも変数を変えて、実行してみましょう。Englishの場合はどうなりますか。"
      ]
    },
    {
      "cell_type": "markdown",
      "metadata": {
        "id": "rqczSKsE8mlK",
        "colab_type": "text"
      },
      "source": [
        "もちろん、Pandasにはソート機能もあります。値だけではなく、インデックスをベースにソートできます。"
      ]
    },
    {
      "cell_type": "code",
      "metadata": {
        "id": "vODvKFB28mlL",
        "colab_type": "code",
        "outputId": "8314edc2-9adf-4190-b56b-e5a4ecefeaa7",
        "colab": {}
      },
      "source": [
        "# データの準備\n",
        "attri_data2 = {'ID':['100','101','102','103','104']\n",
        "        ,'city':['Tokyo','Osaka','Kyoto','Hokkaido','Tokyo']\n",
        "        ,'birth_year':[1990,1989,1992,1997,1982]\n",
        "        ,'name':['Hiroshi','Akiko','Yuki','Satoru','Steeve']}\n",
        "attri_data_frame2 = DataFrame(attri_data2)\n",
        "attri_data_frame_index2 = DataFrame(attri_data2,index=['e','b','a','d','c'])\n",
        "print(attri_data_frame_index2)"
      ],
      "execution_count": 0,
      "outputs": [
        {
          "output_type": "stream",
          "text": [
            "    ID  birth_year      city     name\n",
            "e  100        1990     Tokyo  Hiroshi\n",
            "b  101        1989     Osaka    Akiko\n",
            "a  102        1992     Kyoto     Yuki\n",
            "d  103        1997  Hokkaido   Satoru\n",
            "c  104        1982     Tokyo   Steeve\n"
          ],
          "name": "stdout"
        }
      ]
    },
    {
      "cell_type": "code",
      "metadata": {
        "id": "nG8mOlza8mlQ",
        "colab_type": "code",
        "outputId": "ee784c8f-7aa2-423c-d3ec-ab44e63b246d",
        "colab": {}
      },
      "source": [
        "# indexによるソート\n",
        "attri_data_frame_index2.sort_index()"
      ],
      "execution_count": 0,
      "outputs": [
        {
          "output_type": "execute_result",
          "data": {
            "text/html": [
              "<div>\n",
              "<table border=\"1\" class=\"dataframe\">\n",
              "  <thead>\n",
              "    <tr style=\"text-align: right;\">\n",
              "      <th></th>\n",
              "      <th>ID</th>\n",
              "      <th>birth_year</th>\n",
              "      <th>city</th>\n",
              "      <th>name</th>\n",
              "    </tr>\n",
              "  </thead>\n",
              "  <tbody>\n",
              "    <tr>\n",
              "      <th>a</th>\n",
              "      <td>102</td>\n",
              "      <td>1992</td>\n",
              "      <td>Kyoto</td>\n",
              "      <td>Yuki</td>\n",
              "    </tr>\n",
              "    <tr>\n",
              "      <th>b</th>\n",
              "      <td>101</td>\n",
              "      <td>1989</td>\n",
              "      <td>Osaka</td>\n",
              "      <td>Akiko</td>\n",
              "    </tr>\n",
              "    <tr>\n",
              "      <th>c</th>\n",
              "      <td>104</td>\n",
              "      <td>1982</td>\n",
              "      <td>Tokyo</td>\n",
              "      <td>Steeve</td>\n",
              "    </tr>\n",
              "    <tr>\n",
              "      <th>d</th>\n",
              "      <td>103</td>\n",
              "      <td>1997</td>\n",
              "      <td>Hokkaido</td>\n",
              "      <td>Satoru</td>\n",
              "    </tr>\n",
              "    <tr>\n",
              "      <th>e</th>\n",
              "      <td>100</td>\n",
              "      <td>1990</td>\n",
              "      <td>Tokyo</td>\n",
              "      <td>Hiroshi</td>\n",
              "    </tr>\n",
              "  </tbody>\n",
              "</table>\n",
              "</div>"
            ],
            "text/plain": [
              "    ID  birth_year      city     name\n",
              "a  102        1992     Kyoto     Yuki\n",
              "b  101        1989     Osaka    Akiko\n",
              "c  104        1982     Tokyo   Steeve\n",
              "d  103        1997  Hokkaido   Satoru\n",
              "e  100        1990     Tokyo  Hiroshi"
            ]
          },
          "metadata": {
            "tags": []
          },
          "execution_count": 45
        }
      ]
    },
    {
      "cell_type": "code",
      "metadata": {
        "id": "TandXs0n8mlU",
        "colab_type": "code",
        "outputId": "1faeb28e-2afe-4b60-8643-28f427c7f97e",
        "colab": {}
      },
      "source": [
        "# 値によるソート、デフォルトは昇順\n",
        "attri_data_frame_index2.birth_year.sort_values()"
      ],
      "execution_count": 0,
      "outputs": [
        {
          "output_type": "execute_result",
          "data": {
            "text/plain": [
              "c    1982\n",
              "b    1989\n",
              "e    1990\n",
              "a    1992\n",
              "d    1997\n",
              "Name: birth_year, dtype: int64"
            ]
          },
          "metadata": {
            "tags": []
          },
          "execution_count": 46
        }
      ]
    },
    {
      "cell_type": "markdown",
      "metadata": {
        "id": "_O7tUIDe8mlX",
        "colab_type": "text"
      },
      "source": [
        "最後に、値があるかどうか、Nullの判定についてです。\n",
        "\n",
        "以下は、attri_data_frame_index2にTokyoという文字列があるかどうかをisinで調べて、それぞれのセルにTrueかFalseが返されます。入っていればTrue、入っていなければFalseになっていることがわかります。"
      ]
    },
    {
      "cell_type": "code",
      "metadata": {
        "id": "8jpFykUz8mlX",
        "colab_type": "code",
        "outputId": "bf0b6678-080f-42ce-cb18-d5dd58f67d36",
        "colab": {}
      },
      "source": [
        "# 値があるかどうかの確認\n",
        "attri_data_frame_index2.isin([\"Tokyo\"])"
      ],
      "execution_count": 0,
      "outputs": [
        {
          "output_type": "execute_result",
          "data": {
            "text/html": [
              "<div>\n",
              "<table border=\"1\" class=\"dataframe\">\n",
              "  <thead>\n",
              "    <tr style=\"text-align: right;\">\n",
              "      <th></th>\n",
              "      <th>ID</th>\n",
              "      <th>birth_year</th>\n",
              "      <th>city</th>\n",
              "      <th>name</th>\n",
              "    </tr>\n",
              "  </thead>\n",
              "  <tbody>\n",
              "    <tr>\n",
              "      <th>e</th>\n",
              "      <td>False</td>\n",
              "      <td>False</td>\n",
              "      <td>True</td>\n",
              "      <td>False</td>\n",
              "    </tr>\n",
              "    <tr>\n",
              "      <th>b</th>\n",
              "      <td>False</td>\n",
              "      <td>False</td>\n",
              "      <td>False</td>\n",
              "      <td>False</td>\n",
              "    </tr>\n",
              "    <tr>\n",
              "      <th>a</th>\n",
              "      <td>False</td>\n",
              "      <td>False</td>\n",
              "      <td>False</td>\n",
              "      <td>False</td>\n",
              "    </tr>\n",
              "    <tr>\n",
              "      <th>d</th>\n",
              "      <td>False</td>\n",
              "      <td>False</td>\n",
              "      <td>False</td>\n",
              "      <td>False</td>\n",
              "    </tr>\n",
              "    <tr>\n",
              "      <th>c</th>\n",
              "      <td>False</td>\n",
              "      <td>False</td>\n",
              "      <td>True</td>\n",
              "      <td>False</td>\n",
              "    </tr>\n",
              "  </tbody>\n",
              "</table>\n",
              "</div>"
            ],
            "text/plain": [
              "      ID birth_year   city   name\n",
              "e  False      False   True  False\n",
              "b  False      False  False  False\n",
              "a  False      False  False  False\n",
              "d  False      False  False  False\n",
              "c  False      False   True  False"
            ]
          },
          "metadata": {
            "tags": []
          },
          "execution_count": 47
        }
      ]
    },
    {
      "cell_type": "markdown",
      "metadata": {
        "id": "ydboQqLv8mla",
        "colab_type": "text"
      },
      "source": [
        "次は、一部にnanをわざと入れて、isnullでそれぞれのセルを判定しています。"
      ]
    },
    {
      "cell_type": "code",
      "metadata": {
        "id": "y0N1AAjo8mla",
        "colab_type": "code",
        "outputId": "eb5a5781-1db3-4f1e-cd89-e093179d8932",
        "colab": {}
      },
      "source": [
        "#　欠損値の取り扱い\n",
        "# name をすべてnanにする\n",
        "attri_data_frame_index2.name = np.nan\n",
        "attri_data_frame_index2.isnull()"
      ],
      "execution_count": 0,
      "outputs": [
        {
          "output_type": "execute_result",
          "data": {
            "text/html": [
              "<div>\n",
              "<table border=\"1\" class=\"dataframe\">\n",
              "  <thead>\n",
              "    <tr style=\"text-align: right;\">\n",
              "      <th></th>\n",
              "      <th>ID</th>\n",
              "      <th>birth_year</th>\n",
              "      <th>city</th>\n",
              "      <th>name</th>\n",
              "    </tr>\n",
              "  </thead>\n",
              "  <tbody>\n",
              "    <tr>\n",
              "      <th>e</th>\n",
              "      <td>False</td>\n",
              "      <td>False</td>\n",
              "      <td>False</td>\n",
              "      <td>True</td>\n",
              "    </tr>\n",
              "    <tr>\n",
              "      <th>b</th>\n",
              "      <td>False</td>\n",
              "      <td>False</td>\n",
              "      <td>False</td>\n",
              "      <td>True</td>\n",
              "    </tr>\n",
              "    <tr>\n",
              "      <th>a</th>\n",
              "      <td>False</td>\n",
              "      <td>False</td>\n",
              "      <td>False</td>\n",
              "      <td>True</td>\n",
              "    </tr>\n",
              "    <tr>\n",
              "      <th>d</th>\n",
              "      <td>False</td>\n",
              "      <td>False</td>\n",
              "      <td>False</td>\n",
              "      <td>True</td>\n",
              "    </tr>\n",
              "    <tr>\n",
              "      <th>c</th>\n",
              "      <td>False</td>\n",
              "      <td>False</td>\n",
              "      <td>False</td>\n",
              "      <td>True</td>\n",
              "    </tr>\n",
              "  </tbody>\n",
              "</table>\n",
              "</div>"
            ],
            "text/plain": [
              "      ID birth_year   city  name\n",
              "e  False      False  False  True\n",
              "b  False      False  False  True\n",
              "a  False      False  False  True\n",
              "d  False      False  False  True\n",
              "c  False      False  False  True"
            ]
          },
          "metadata": {
            "tags": []
          },
          "execution_count": 59
        }
      ]
    },
    {
      "cell_type": "code",
      "metadata": {
        "id": "ZhU7X1VA8mlc",
        "colab_type": "code",
        "outputId": "a8bfef32-c157-4526-8344-07d5b0f9989d",
        "colab": {}
      },
      "source": [
        "# nullを判定し、合計する\n",
        "attri_data_frame_index2.isnull().sum()"
      ],
      "execution_count": 0,
      "outputs": [
        {
          "output_type": "execute_result",
          "data": {
            "text/plain": [
              "ID            0\n",
              "birth_year    0\n",
              "city          0\n",
              "name          5\n",
              "dtype: int64"
            ]
          },
          "metadata": {
            "tags": []
          },
          "execution_count": 60
        }
      ]
    },
    {
      "cell_type": "markdown",
      "metadata": {
        "id": "TfCNiSfU8mle",
        "colab_type": "text"
      },
      "source": [
        "以上で、Pandasの簡単な説明は終わりです。次の章で実際のデータのハンドリングをしますので、ここで学んだことはしっかりと身につけてください。"
      ]
    },
    {
      "cell_type": "markdown",
      "metadata": {
        "id": "NuFF1R0C8mle",
        "colab_type": "text"
      },
      "source": [
        "#### <練習問題 1>\n",
        "\n",
        "以下のデータに対して、Moneyが500以上の人を絞り込んで、レコードを表示させてください。"
      ]
    },
    {
      "cell_type": "code",
      "metadata": {
        "id": "oFhimhbn8mlf",
        "colab_type": "code",
        "outputId": "2460898c-d4d8-4420-b5d5-e870f3827aaf",
        "colab": {
          "base_uri": "https://localhost:8080/",
          "height": 366
        }
      },
      "source": [
        "from pandas import Series,DataFrame\n",
        "import pandas as pd\n",
        "\n",
        "attri_data1 = {'ID':['1','2','3','4','5']\n",
        "        ,'sex':['F','F','M','M','F']\n",
        "        ,'Money':[1000,2000,500,300,700]\n",
        "        ,'name':['Saito','Horie','Kondo','Kawada','Matsubara']}\n",
        "\n",
        "attri_data_frame1 = DataFrame(attri_data1)\n",
        "print(attri_data_frame1)\n",
        "\n",
        "# Q1\n",
        "print(attri_data_frame1[attri_data_frame1['Money'] >= 500])\n",
        "# Q2\n",
        "print(attri_data_frame1.groupby('sex')[\"Money\"].mean())\n",
        "\n",
        "\n",
        "# Q3\n",
        "attri_data2 = {'ID':['3','4','7']\n",
        "        ,'Math':[60,30,40]\n",
        "        ,'English':[80,20,30]}\n",
        "\n",
        "attri_data_frame2 = DataFrame(attri_data2)\n",
        "merged = pd.merge(attri_data_frame1, attri_data_frame2)\n",
        "\n",
        "merged[['Money', 'Math', 'English']]"
      ],
      "execution_count": 0,
      "outputs": [
        {
          "output_type": "stream",
          "text": [
            "  ID sex  Money       name\n",
            "0  1   F   1000      Saito\n",
            "1  2   F   2000      Horie\n",
            "2  3   M    500      Kondo\n",
            "3  4   M    300     Kawada\n",
            "4  5   F    700  Matsubara\n",
            "  ID sex  Money       name\n",
            "0  1   F   1000      Saito\n",
            "1  2   F   2000      Horie\n",
            "2  3   M    500      Kondo\n",
            "4  5   F    700  Matsubara\n",
            "sex\n",
            "F    1233.333333\n",
            "M     400.000000\n",
            "Name: Money, dtype: float64\n"
          ],
          "name": "stdout"
        },
        {
          "output_type": "execute_result",
          "data": {
            "text/html": [
              "<div>\n",
              "<style scoped>\n",
              "    .dataframe tbody tr th:only-of-type {\n",
              "        vertical-align: middle;\n",
              "    }\n",
              "\n",
              "    .dataframe tbody tr th {\n",
              "        vertical-align: top;\n",
              "    }\n",
              "\n",
              "    .dataframe thead th {\n",
              "        text-align: right;\n",
              "    }\n",
              "</style>\n",
              "<table border=\"1\" class=\"dataframe\">\n",
              "  <thead>\n",
              "    <tr style=\"text-align: right;\">\n",
              "      <th></th>\n",
              "      <th>Money</th>\n",
              "      <th>Math</th>\n",
              "      <th>English</th>\n",
              "    </tr>\n",
              "  </thead>\n",
              "  <tbody>\n",
              "    <tr>\n",
              "      <th>0</th>\n",
              "      <td>500</td>\n",
              "      <td>60</td>\n",
              "      <td>80</td>\n",
              "    </tr>\n",
              "    <tr>\n",
              "      <th>1</th>\n",
              "      <td>300</td>\n",
              "      <td>30</td>\n",
              "      <td>20</td>\n",
              "    </tr>\n",
              "  </tbody>\n",
              "</table>\n",
              "</div>"
            ],
            "text/plain": [
              "   Money  Math  English\n",
              "0    500    60       80\n",
              "1    300    30       20"
            ]
          },
          "metadata": {
            "tags": []
          },
          "execution_count": 7
        }
      ]
    },
    {
      "cell_type": "markdown",
      "metadata": {
        "id": "0-bkf89Y8mlh",
        "colab_type": "text"
      },
      "source": [
        "#### <練習問題 2>\n",
        "\n",
        "上記のデータに対して、男女別（MF別）の平均Moneyを求めてください。"
      ]
    },
    {
      "cell_type": "markdown",
      "metadata": {
        "id": "rfoOHeFs8mlh",
        "colab_type": "text"
      },
      "source": [
        "#### <練習問題 3>\n",
        "\n",
        "上記のデータに対して、以下のデータの同じIDの人をキーとして、データをマージしてください。そして、MoneyとMathとEnglishの平均を求めてください。"
      ]
    },
    {
      "cell_type": "code",
      "metadata": {
        "id": "-OL_5j3s8mlj",
        "colab_type": "code",
        "colab": {}
      },
      "source": [
        "attri_data2 = {'ID':['3','4','7']\n",
        "        ,'Math':[60,30,40]\n",
        "        ,'English':[80,20,30]}\n",
        "\n",
        "attri_data_frame2 = DataFrame(attri_data2)"
      ],
      "execution_count": 0,
      "outputs": []
    },
    {
      "cell_type": "markdown",
      "metadata": {
        "id": "Ct-LXOYv8mll",
        "colab_type": "text"
      },
      "source": [
        "### 2.1.4 Matplotlibの基礎\n",
        "キーワード：データビジュアライゼーション、散布図、ヒストグラム"
      ]
    },
    {
      "cell_type": "markdown",
      "metadata": {
        "id": "aQOWNtN08mll",
        "colab_type": "text"
      },
      "source": [
        "データ分析をする上で、対象となるデータを可視化することはとても重要です。単に数字を眺めているだけでは、データに潜む傾向がなかなか見えなかったりしますが、データをビジュアル化することで、データ間の関係性なども見えてきます。特に、近年はインフォグラフィックスなどといって、可視化が注目されています。\n",
        "ここでは、主にmatplotlibとseabornを使って、データを可視化する基本的な方法を身につけましょう。以下のサイトが参考になります。"
      ]
    },
    {
      "cell_type": "markdown",
      "metadata": {
        "id": "9OKbx0e58mlm",
        "colab_type": "text"
      },
      "source": [
        ">[参考URL]\n",
        "\n",
        ">http://matplotlib.org/\n",
        "\n",
        ">http://seaborn.pydata.org/"
      ]
    },
    {
      "cell_type": "markdown",
      "metadata": {
        "id": "YEgPPOSW8mln",
        "colab_type": "text"
      },
      "source": [
        "さらに以下の参考サイトは、pythonではなく、java scriptベースのプログラミングですが、データをビジュアル化するという意味では参考になります。"
      ]
    },
    {
      "cell_type": "markdown",
      "metadata": {
        "id": "Nq_HIlYu8mln",
        "colab_type": "text"
      },
      "source": [
        "![dd](http://visualisingadvocacy.org/sites/visualisingadvocacy.org/files/D3-index.jpg)"
      ]
    },
    {
      "cell_type": "markdown",
      "metadata": {
        "id": "2St2BLGx8mlo",
        "colab_type": "text"
      },
      "source": [
        "参照：https://d3js.org"
      ]
    },
    {
      "cell_type": "markdown",
      "metadata": {
        "id": "WURxwRgK8mlo",
        "colab_type": "text"
      },
      "source": [
        "早速、必要なライブラリーを読み込みましょう。メインはmatplotlibで、seabornは図をさらにきれいにすることができます。"
      ]
    },
    {
      "cell_type": "code",
      "metadata": {
        "nbpresent": {
          "id": "6eff5466-e51a-40e9-b5d6-0e511d329721"
        },
        "id": "Kljpq7Ua8mlp",
        "colab_type": "code",
        "colab": {}
      },
      "source": [
        "# matplotlib と seabornの読み込み\n",
        "# seabornはきれいに図示できる\n",
        "import matplotlib.pyplot as plt\n",
        "import matplotlib as mpl\n",
        "import seaborn as sns\n",
        "\n",
        "# ここで表示させるために必要なマジックコマンド\n",
        "%matplotlib inline\n"
      ],
      "execution_count": 0,
      "outputs": []
    },
    {
      "cell_type": "markdown",
      "metadata": {
        "id": "AyIDxYTy8mlt",
        "colab_type": "text"
      },
      "source": [
        "まずは、散布図です。散布図は、2つの組み合わせデータに対して、x−y座標上に点をプロットしたグラフです。ここから2変数の関係性などが見えてきます。"
      ]
    },
    {
      "cell_type": "code",
      "metadata": {
        "id": "MMmrp6Qz8mlu",
        "colab_type": "code",
        "outputId": "29a55135-ba3a-41d3-cc32-2ac720b8fcff",
        "colab": {
          "base_uri": "https://localhost:8080/",
          "height": 295
        }
      },
      "source": [
        "# matplotlib と seabornの読み込み\n",
        "# seabornはきれいに図示できる\n",
        "import matplotlib.pyplot as plt\n",
        "import matplotlib as mpl\n",
        "import seaborn as sns\n",
        "import numpy as np\n",
        "\n",
        "# ここで表示させるために必要なマジックコマンド\n",
        "%matplotlib inline\n",
        "# 散布図\n",
        "\n",
        "import numpy.random as random\n",
        "\n",
        "#　シード値の固定\n",
        "random.seed(0)\n",
        "# x軸のデータ\n",
        "x = np.random.randn(30)\n",
        "# y軸のデータ\n",
        "y = np.sin(x) + np.random.randn(30)\n",
        "\n",
        "# plot\n",
        "plt.plot(x, y, \"o\")\n",
        "\n",
        "#以下でも散布図が描ける\n",
        "#plt.scatter(x, y)\n",
        "\n",
        "# title\n",
        "plt.title(\"Title Name\")\n",
        "# Xの座標名\n",
        "plt.xlabel(\"X\")\n",
        "# Yの座標名\n",
        "plt.ylabel(\"Y\")\n",
        "\n",
        "# gridの表示\n",
        "plt.grid(True)"
      ],
      "execution_count": 0,
      "outputs": [
        {
          "output_type": "display_data",
          "data": {
            "image/png": "[encoded data removed]",
            "text/plain": [
              "<Figure size 432x288 with 1 Axes>"
            ]
          },
          "metadata": {
            "tags": []
          }
        }
      ]
    },
    {
      "cell_type": "markdown",
      "metadata": {
        "id": "kkTNcfN88mlw",
        "colab_type": "text"
      },
      "source": [
        "次もplotを使いますが、時系列など連続した（厳密には連続とみなした）曲線を描いています。"
      ]
    },
    {
      "cell_type": "code",
      "metadata": {
        "id": "lZ0i5Koh8mlz",
        "colab_type": "code",
        "outputId": "80b3c3e4-0363-4962-cec7-7a1f75cd4811",
        "colab": {
          "base_uri": "https://localhost:8080/",
          "height": 279
        }
      },
      "source": [
        "# matplotlib と seabornの読み込み\n",
        "# seabornはきれいに図示できる\n",
        "import matplotlib.pyplot as plt\n",
        "import matplotlib as mpl\n",
        "import seaborn as sns\n",
        "import numpy as np\n",
        "\n",
        "# ここで表示させるために必要なマジックコマンド\n",
        "%matplotlib inline\n",
        "\n",
        "# 連続曲線\n",
        "np.random.seed(0)\n",
        "# データの範囲\n",
        "numpy_data_x = np.arange(1000)\n",
        "\n",
        "# 乱数の発生と積み上げ\n",
        "numpy_random_data_y = np.random.randn(1000).cumsum()\n",
        "\n",
        "# label=とlegendでラベルをつけることが可能\n",
        "plt.plot(numpy_data_x,numpy_random_data_y,label=\"Label\")\n",
        "plt.legend()\n",
        "\n",
        "plt.xlabel(\"X\")\n",
        "plt.ylabel(\"Y\")\n",
        "plt.grid(True)"
      ],
      "execution_count": 0,
      "outputs": [
        {
          "output_type": "display_data",
          "data": {
            "image/png": "[encoded data removed]",
            "text/plain": [
              "<Figure size 432x288 with 1 Axes>"
            ]
          },
          "metadata": {
            "tags": []
          }
        }
      ]
    },
    {
      "cell_type": "markdown",
      "metadata": {
        "id": "yOgSh1U18ml2",
        "colab_type": "text"
      },
      "source": [
        "subplot()でグラフを複数に分けることができます。以下は、2行1列のグラフを作成し、1番目と2番目と番号を指定して表示させています。なお、linspace(-10,10,100)は-10から10までの数を100コに分割した数字リストを取り出します。"
      ]
    },
    {
      "cell_type": "code",
      "metadata": {
        "scrolled": true,
        "id": "sPizk-RH8ml3",
        "colab_type": "code",
        "outputId": "e629b48f-3130-4035-ebff-85c4dbce96f2",
        "colab": {
          "base_uri": "https://localhost:8080/",
          "height": 265
        }
      },
      "source": [
        "# matplotlib と seabornの読み込み\n",
        "# seabornはきれいに図示できる\n",
        "import matplotlib.pyplot as plt\n",
        "import matplotlib as mpl\n",
        "import seaborn as sns\n",
        "import numpy as np\n",
        "\n",
        "# ここで表示させるために必要なマジックコマンド\n",
        "%matplotlib inline\n",
        "\n",
        "# sin関数\n",
        "\n",
        "# 2行1列のグラフの1つ目\n",
        "plt.subplot(2,1,1)\n",
        "x = np.linspace(-10, 10,100)\n",
        "plt.plot(x, np.sin(x)) \n",
        "\n",
        "# 2行1列のグラフの2つ目\n",
        "plt.subplot(2,1,2)\n",
        "y = np.linspace(-10, 10,100)\n",
        "plt.plot(y, np.sin(2*y)) \n",
        "\n",
        "plt.grid(True)"
      ],
      "execution_count": 0,
      "outputs": [
        {
          "output_type": "display_data",
          "data": {
            "image/png": "[encoded data removed]",
            "text/plain": [
              "<Figure size 432x288 with 2 Axes>"
            ]
          },
          "metadata": {
            "tags": []
          }
        }
      ]
    },
    {
      "cell_type": "markdown",
      "metadata": {
        "id": "CtlFw0Nu8ml4",
        "colab_type": "text"
      },
      "source": [
        "次は、Scipyで扱った二次関数のグラフです。方程式の解の問題を考える際、数値計算しなくても図をみればおおよその解はわかります。"
      ]
    },
    {
      "cell_type": "code",
      "metadata": {
        "scrolled": false,
        "id": "etykQfSu8ml5",
        "colab_type": "code",
        "outputId": "c5ee46f9-6e6a-4837-f6f7-ca1c610071bc",
        "colab": {
          "base_uri": "https://localhost:8080/",
          "height": 265
        }
      },
      "source": [
        "# matplotlib と seabornの読み込み\n",
        "# seabornはきれいに図示できる\n",
        "import matplotlib.pyplot as plt\n",
        "import matplotlib as mpl\n",
        "import seaborn as sns\n",
        "import numpy as np\n",
        "\n",
        "# ここで表示させるために必要なマジックコマンド\n",
        "%matplotlib inline\n",
        "# 関数の定義\n",
        "def sample_function(x):\n",
        "    return (x**2 + 2*x + 1)\n",
        "x = np.arange(-10, 10)\n",
        "plt.plot(x, sample_function(x)) \n",
        "plt.grid(True)"
      ],
      "execution_count": 0,
      "outputs": [
        {
          "output_type": "display_data",
          "data": {
            "image/png": "[encoded data removed]",
            "text/plain": [
              "<Figure size 432x288 with 1 Axes>"
            ]
          },
          "metadata": {
            "tags": []
          }
        }
      ]
    },
    {
      "cell_type": "markdown",
      "metadata": {
        "id": "0H2Pwye28ml8",
        "colab_type": "text"
      },
      "source": [
        "次のグラフは、ヒストグラムと言われ、それぞれの値の**度数**(値が出現する回数)を示します。データの全体像を観察するときに使われる図です。ここからどんな数値が多いのか、少ないのか、偏りがあるのかないのか見ていきます。\n",
        "\n",
        "実装ではhistを使います。その中にあるパラメータは、対象となるデータ、ビンの数（幅、個数）、範囲を設定しています。他にも色々とパラメータがありますので、前と同様に?でチェックしてみてください。"
      ]
    },
    {
      "cell_type": "code",
      "metadata": {
        "id": "_0xypOy08ml8",
        "colab_type": "code",
        "colab": {}
      },
      "source": [
        "# matplotlib と seabornの読み込み\n",
        "# seabornはきれいに図示できる\n",
        "import matplotlib.pyplot as plt\n",
        "import matplotlib as mpl\n",
        "import seaborn as sns\n",
        "import numpy as np\n",
        "\n",
        "# ここで表示させるために必要なマジックコマンド\n",
        "%matplotlib inline\n",
        "\n",
        "\n",
        "\n",
        "?plt.hist"
      ],
      "execution_count": 0,
      "outputs": []
    },
    {
      "cell_type": "markdown",
      "metadata": {
        "id": "n-IPekd_8ml-",
        "colab_type": "text"
      },
      "source": [
        "他、help(~)関数を使って、仕様を確認することができます。"
      ]
    },
    {
      "cell_type": "code",
      "metadata": {
        "id": "7L4SboQY8ml_",
        "colab_type": "code",
        "colab": {}
      },
      "source": [
        "help(plt.hist)"
      ],
      "execution_count": 0,
      "outputs": []
    },
    {
      "cell_type": "code",
      "metadata": {
        "id": "ohDDkneM8mmF",
        "colab_type": "code",
        "outputId": "2bce7a1c-9dff-4613-d6f8-ffe05a5da6f7",
        "colab": {
          "base_uri": "https://localhost:8080/",
          "height": 265
        }
      },
      "source": [
        "# matplotlib と seabornの読み込み\n",
        "# seabornはきれいに図示できる\n",
        "import matplotlib.pyplot as plt\n",
        "import matplotlib as mpl\n",
        "import seaborn as sns\n",
        "import numpy as np\n",
        "\n",
        "# ここで表示させるために必要なマジックコマンド\n",
        "%matplotlib inline\n",
        "\n",
        "\n",
        "# histogram\n",
        "random.seed(0)\n",
        "plt.hist(np.random.randn(10**5)*10 + 50, bins=60,range=(20,80))\n",
        "plt.grid(True)"
      ],
      "execution_count": 0,
      "outputs": [
        {
          "output_type": "display_data",
          "data": {
            "image/png": "[encoded data removed]",
            "text/plain": [
              "<Figure size 432x288 with 1 Axes>"
            ]
          },
          "metadata": {
            "tags": []
          }
        }
      ]
    },
    {
      "cell_type": "markdown",
      "metadata": {
        "id": "gAg-1GyJ8mmH",
        "colab_type": "text"
      },
      "source": [
        "以上で、Matplotlibの基礎、そしてデータ分析で使うPyhonのメインモジュール(Numpy、Scipy、Pandas)の基本的な紹介についてはこれで終わります。お疲れ様でした。ここで学んだテクニックは、次の記述統計で使ったり、さらに次の章で活用していきます。"
      ]
    },
    {
      "cell_type": "markdown",
      "metadata": {
        "id": "QlIcG5Eh8mmI",
        "colab_type": "text"
      },
      "source": [
        "#### <練習問題 1>\n",
        "\n",
        "y = 5x + 3 (xは-10から10の値)のグラフを書いてみましょう。"
      ]
    },
    {
      "cell_type": "code",
      "metadata": {
        "id": "uzaTsxtw0ff0",
        "colab_type": "code",
        "outputId": "6c37e4fc-da87-4da2-a102-534db97b5d7e",
        "colab": {
          "base_uri": "https://localhost:8080/",
          "height": 265
        }
      },
      "source": [
        "# matplotlib と seabornの読み込み\n",
        "# seabornはきれいに図示できる\n",
        "import matplotlib.pyplot as plt\n",
        "import matplotlib as mpl\n",
        "import seaborn as sns\n",
        "import numpy as np\n",
        "\n",
        "# ここで表示させるために必要なマジックコマンド\n",
        "%matplotlib inline\n",
        "# 関数の定義\n",
        "def sample_function(x):\n",
        "    return (5*x + 3)\n",
        "x = np.arange(-10, 10)\n",
        "plt.plot(x, sample_function(x)) \n",
        "plt.grid(True)"
      ],
      "execution_count": 0,
      "outputs": [
        {
          "output_type": "display_data",
          "data": {
            "image/png": "[encoded data removed]",
            "text/plain": [
              "<Figure size 432x288 with 1 Axes>"
            ]
          },
          "metadata": {
            "tags": []
          }
        }
      ]
    },
    {
      "cell_type": "markdown",
      "metadata": {
        "id": "B8-QTb5M8mmJ",
        "colab_type": "text"
      },
      "source": [
        "#### <練習問題 2>\n",
        "\n",
        "先ほどのsin関数に加えて、cos関数のグラフも書いてください。"
      ]
    },
    {
      "cell_type": "code",
      "metadata": {
        "id": "qS8PM4Mu0lB8",
        "colab_type": "code",
        "outputId": "9e319ef0-3fd1-4394-d050-6837df8540d9",
        "colab": {
          "base_uri": "https://localhost:8080/",
          "height": 266
        }
      },
      "source": [
        "# matplotlib と seabornの読み込み\n",
        "# seabornはきれいに図示できる\n",
        "import matplotlib.pyplot as plt\n",
        "import matplotlib as mpl\n",
        "import seaborn as sns\n",
        "import numpy as np\n",
        "\n",
        "# ここで表示させるために必要なマジックコマンド\n",
        "%matplotlib inline\n",
        "\n",
        "# sin関数\n",
        "\n",
        "# 2行1列のグラフの1つ目\n",
        "plt.subplot(3,1,1)\n",
        "x = np.linspace(-10, 10,100)\n",
        "plt.plot(x, np.sin(x)) \n",
        "\n",
        "# 2行1列のグラフの2つ目\n",
        "plt.subplot(3,1,2)\n",
        "y = np.linspace(-10, 10,100)\n",
        "plt.plot(y, np.sin(2*y)) \n",
        "\n",
        "# 2行1列のグラフの2つ目\n",
        "plt.subplot(3,1,3)\n",
        "y = np.linspace(-10, 10,100)\n",
        "plt.plot(y, np.cos(y)) \n",
        "\n",
        "\n",
        "plt.grid(True)"
      ],
      "execution_count": 0,
      "outputs": [
        {
          "output_type": "display_data",
          "data": {
            "image/png": "[encoded data removed]",
            "text/plain": [
              "<Figure size 432x288 with 3 Axes>"
            ]
          },
          "metadata": {
            "tags": []
          }
        }
      ]
    },
    {
      "cell_type": "markdown",
      "metadata": {
        "id": "ByByIiIZ8mmJ",
        "colab_type": "text"
      },
      "source": [
        "#### <練習問題 3>\n",
        "\n",
        "0から1の値をとる一様乱数を1000個、2組発生させて、それぞれのヒストグラムを書いてみましょう。結果はどうなっていますか。また、1000個だけではなく、100個や10000個などでも実施してみましょう。何かわかることはありますか。なお、それぞれのヒストグラムは別のグラフに表示するために、plt.subplotを利用してください。なお、一様乱数とは、ある数から数まで等確率で発生する乱数のことをいい、np.random.uniformを使ってください。"
      ]
    },
    {
      "cell_type": "code",
      "metadata": {
        "id": "oJbLbZCZ2DCu",
        "colab_type": "code",
        "outputId": "f83e36eb-a642-4404-8000-b9b33ea1e0e1",
        "colab": {
          "base_uri": "https://localhost:8080/",
          "height": 265
        }
      },
      "source": [
        "# matplotlib と seabornの読み込み\n",
        "# seabornはきれいに図示できる\n",
        "import matplotlib.pyplot as plt\n",
        "import matplotlib as mpl\n",
        "import seaborn as sns\n",
        "import numpy as np\n",
        "\n",
        "# ここで表示させるために必要なマジックコマンド\n",
        "%matplotlib inline\n",
        "\n",
        "# sin関数\n",
        "\n",
        "# 2行1列のグラフの1つ目\n",
        "plt.subplot(2,2,1)\n",
        "x = np.linspace(-10, 10,100)\n",
        "# ?np.random.uniform\n",
        "plt.hist(np.random.uniform(size=10**3), bins=10,range=(0,1))\n",
        "# plt.plot(x, np.sin(x)) \n",
        "# plt.hist(np.random.randn(10**5)*10 + 50, bins=60,range=(20,80))\n",
        "\n",
        "# 2行1列のグラフの2つ目\n",
        "plt.subplot(2,2,2)\n",
        "plt.hist(np.random.uniform(size=10**3), bins=10,range=(0,1))\n",
        "\n",
        "# 2行1列のグラフの2つ目\n",
        "plt.subplot(2,2,3)\n",
        "plt.hist(np.random.uniform(size=10**2), bins=10,range=(0,1))\n",
        "\n",
        "plt.subplot(2,2,4)\n",
        "plt.hist(np.random.uniform(size=10**4), bins=10,range=(0,1))\n",
        "\n",
        "\n",
        "plt.grid(True)"
      ],
      "execution_count": 0,
      "outputs": [
        {
          "output_type": "display_data",
          "data": {
            "image/png": "[encoded data removed]",
            "text/plain": [
              "<Figure size 432x288 with 4 Axes>"
            ]
          },
          "metadata": {
            "tags": []
          }
        }
      ]
    },
    {
      "cell_type": "markdown",
      "metadata": {
        "id": "M87hsi8B8mmK",
        "colab_type": "text"
      },
      "source": [
        "## 2.2 総合問題"
      ]
    },
    {
      "cell_type": "markdown",
      "metadata": {
        "id": "QBXfgkwG8mmL",
        "colab_type": "text"
      },
      "source": [
        "### 2.2.1 モンテカルロ法\n",
        "\n",
        "乱数を発生させる方法を使って、円周率を求めるプログラムを作成してみましょう。（なお、このアプローチを**モンテカルロ法**といいます）\n",
        "\n",
        "（1）一様分布に従う乱数を2組発生させて、それぞれ10,000個の一様乱数を作ってみましょう。なお、一様乱数とは、ある数から数まで等確率で発生する乱数のことをいい、np.random.uniformを使います。使い方としては、0から1までの数を10個発生させる場合は、np.random.uniform(0.0, 1.0, 10)とします。\n",
        "\n",
        "（2）x−y軸を使った中心(0,0)、半径1の円と、長さ1の正方形を考え、円の面積は$\\pi$となり、正方形の面積は1となります。ここで先ほどのxとyの組み合わせの乱数10000個のうち、円の内部に入る点は何組あるでしょうか。ここで、円の内部に入るとは、x−y座標の原点から点 (x, y) のベクトルの長さを求め、それが1より小さくなる場合を判定基準とします。なお、その長さを求めるために、ユークリッドノルム($\\sqrt{x^2 + y^2}$)を使い、 math.hypot(x,y)で計算できます。（さらに、余裕があれば、円の中に入ったxとyの組み合わせと外に出たxとyの組み合わせをプロットして図にしてみましょう。）\n",
        "\n",
        "（3）半径1の1/4の円の面積と長さ1の長方形の面積の比は、$ \\pi /4 : 1$となりますので、これと先ほどの結果を利用して、円周率を求めてみましょう。"
      ]
    }
  ]
}